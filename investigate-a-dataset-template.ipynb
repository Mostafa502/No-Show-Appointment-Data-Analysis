{
 "cells": [
  {
   "cell_type": "markdown",
   "metadata": {},
   "source": [
    "# Project: Investigate a Dataset No-Show Appointment\n",
    "\n",
    "## Table of Contents\n",
    "<ul>\n",
    "<li><a href=\"#intro\">Introduction</a></li>\n",
    "<li><a href=\"#wrangling\">Data Wrangling</a></li>\n",
    "<li><a href=\"#eda\">Exploratory Data Analysis</a></li>\n",
    "<li><a href=\"#conclusions\">Conclusions</a></li>\n",
    "</ul>"
   ]
  },
  {
   "cell_type": "markdown",
   "metadata": {},
   "source": [
    "<a id='intro'></a>\n",
    "## Introduction\n",
    "\n",
    "The patient makes an appointment with the doctor, receives all instructions and does not attend.\n",
    "\n",
    "Are no-show linked to a specific gender?\n",
    "\n",
    "Which hospitals have the most reservation for appointments and which one comes to their appointments the most?\n",
    "\n",
    "Does SMS reminder reduce absences?\n",
    "\n",
    "Does the period between the appointed day and the appointment day affect the number of no-show appointments?\n",
    "\n",
    "Does Scholarship reminder increase the number of absences?"
   ]
  },
  {
   "cell_type": "code",
   "execution_count": 5,
   "metadata": {},
   "outputs": [],
   "source": [
    "import numpy as np\n",
    "import pandas as pd\n",
    "import matplotlib.pyplot as plt\n",
    "import seaborn as sns\n",
    "#% matplotlib inline"
   ]
  },
  {
   "cell_type": "markdown",
   "metadata": {},
   "source": [
    "<a id='wrangling'></a>\n",
    "## Data Wrangling\n",
    "\n",
    "> **Tip**: In this section of the report, you will load in the data, check for cleanliness, and then trim and clean your dataset for analysis. Make sure that you document your steps carefully and justify your cleaning decisions.\n",
    "\n",
    "### General Properties"
   ]
  },
  {
   "cell_type": "code",
   "execution_count": 6,
   "metadata": {
    "scrolled": true
   },
   "outputs": [
    {
     "data": {
      "text/html": [
       "<div>\n",
       "<style scoped>\n",
       "    .dataframe tbody tr th:only-of-type {\n",
       "        vertical-align: middle;\n",
       "    }\n",
       "\n",
       "    .dataframe tbody tr th {\n",
       "        vertical-align: top;\n",
       "    }\n",
       "\n",
       "    .dataframe thead th {\n",
       "        text-align: right;\n",
       "    }\n",
       "</style>\n",
       "<table border=\"1\" class=\"dataframe\">\n",
       "  <thead>\n",
       "    <tr style=\"text-align: right;\">\n",
       "      <th></th>\n",
       "      <th>PatientId</th>\n",
       "      <th>AppointmentID</th>\n",
       "      <th>Gender</th>\n",
       "      <th>ScheduledDay</th>\n",
       "      <th>AppointmentDay</th>\n",
       "      <th>Age</th>\n",
       "      <th>Neighbourhood</th>\n",
       "      <th>Scholarship</th>\n",
       "      <th>Hipertension</th>\n",
       "      <th>Diabetes</th>\n",
       "      <th>Alcoholism</th>\n",
       "      <th>Handcap</th>\n",
       "      <th>SMS_received</th>\n",
       "      <th>No-show</th>\n",
       "    </tr>\n",
       "  </thead>\n",
       "  <tbody>\n",
       "    <tr>\n",
       "      <th>0</th>\n",
       "      <td>2.987250e+13</td>\n",
       "      <td>5642903</td>\n",
       "      <td>F</td>\n",
       "      <td>2016-04-29T18:38:08Z</td>\n",
       "      <td>2016-04-29T00:00:00Z</td>\n",
       "      <td>62</td>\n",
       "      <td>JARDIM DA PENHA</td>\n",
       "      <td>0</td>\n",
       "      <td>1</td>\n",
       "      <td>0</td>\n",
       "      <td>0</td>\n",
       "      <td>0</td>\n",
       "      <td>0</td>\n",
       "      <td>No</td>\n",
       "    </tr>\n",
       "    <tr>\n",
       "      <th>1</th>\n",
       "      <td>5.589978e+14</td>\n",
       "      <td>5642503</td>\n",
       "      <td>M</td>\n",
       "      <td>2016-04-29T16:08:27Z</td>\n",
       "      <td>2016-04-29T00:00:00Z</td>\n",
       "      <td>56</td>\n",
       "      <td>JARDIM DA PENHA</td>\n",
       "      <td>0</td>\n",
       "      <td>0</td>\n",
       "      <td>0</td>\n",
       "      <td>0</td>\n",
       "      <td>0</td>\n",
       "      <td>0</td>\n",
       "      <td>No</td>\n",
       "    </tr>\n",
       "    <tr>\n",
       "      <th>2</th>\n",
       "      <td>4.262962e+12</td>\n",
       "      <td>5642549</td>\n",
       "      <td>F</td>\n",
       "      <td>2016-04-29T16:19:04Z</td>\n",
       "      <td>2016-04-29T00:00:00Z</td>\n",
       "      <td>62</td>\n",
       "      <td>MATA DA PRAIA</td>\n",
       "      <td>0</td>\n",
       "      <td>0</td>\n",
       "      <td>0</td>\n",
       "      <td>0</td>\n",
       "      <td>0</td>\n",
       "      <td>0</td>\n",
       "      <td>No</td>\n",
       "    </tr>\n",
       "    <tr>\n",
       "      <th>3</th>\n",
       "      <td>8.679512e+11</td>\n",
       "      <td>5642828</td>\n",
       "      <td>F</td>\n",
       "      <td>2016-04-29T17:29:31Z</td>\n",
       "      <td>2016-04-29T00:00:00Z</td>\n",
       "      <td>8</td>\n",
       "      <td>PONTAL DE CAMBURI</td>\n",
       "      <td>0</td>\n",
       "      <td>0</td>\n",
       "      <td>0</td>\n",
       "      <td>0</td>\n",
       "      <td>0</td>\n",
       "      <td>0</td>\n",
       "      <td>No</td>\n",
       "    </tr>\n",
       "    <tr>\n",
       "      <th>4</th>\n",
       "      <td>8.841186e+12</td>\n",
       "      <td>5642494</td>\n",
       "      <td>F</td>\n",
       "      <td>2016-04-29T16:07:23Z</td>\n",
       "      <td>2016-04-29T00:00:00Z</td>\n",
       "      <td>56</td>\n",
       "      <td>JARDIM DA PENHA</td>\n",
       "      <td>0</td>\n",
       "      <td>1</td>\n",
       "      <td>1</td>\n",
       "      <td>0</td>\n",
       "      <td>0</td>\n",
       "      <td>0</td>\n",
       "      <td>No</td>\n",
       "    </tr>\n",
       "  </tbody>\n",
       "</table>\n",
       "</div>"
      ],
      "text/plain": [
       "      PatientId  AppointmentID Gender          ScheduledDay  \\\n",
       "0  2.987250e+13        5642903      F  2016-04-29T18:38:08Z   \n",
       "1  5.589978e+14        5642503      M  2016-04-29T16:08:27Z   \n",
       "2  4.262962e+12        5642549      F  2016-04-29T16:19:04Z   \n",
       "3  8.679512e+11        5642828      F  2016-04-29T17:29:31Z   \n",
       "4  8.841186e+12        5642494      F  2016-04-29T16:07:23Z   \n",
       "\n",
       "         AppointmentDay  Age      Neighbourhood  Scholarship  Hipertension  \\\n",
       "0  2016-04-29T00:00:00Z   62    JARDIM DA PENHA            0             1   \n",
       "1  2016-04-29T00:00:00Z   56    JARDIM DA PENHA            0             0   \n",
       "2  2016-04-29T00:00:00Z   62      MATA DA PRAIA            0             0   \n",
       "3  2016-04-29T00:00:00Z    8  PONTAL DE CAMBURI            0             0   \n",
       "4  2016-04-29T00:00:00Z   56    JARDIM DA PENHA            0             1   \n",
       "\n",
       "   Diabetes  Alcoholism  Handcap  SMS_received No-show  \n",
       "0         0           0        0             0      No  \n",
       "1         0           0        0             0      No  \n",
       "2         0           0        0             0      No  \n",
       "3         0           0        0             0      No  \n",
       "4         1           0        0             0      No  "
      ]
     },
     "execution_count": 6,
     "metadata": {},
     "output_type": "execute_result"
    }
   ],
   "source": [
    "# Reading dataset and show samples of it\n",
    "df = pd.read_csv('noshowappointments.csv')\n",
    "df.head()"
   ]
  },
  {
   "cell_type": "code",
   "execution_count": 7,
   "metadata": {
    "scrolled": true
   },
   "outputs": [
    {
     "data": {
      "text/plain": [
       "(110527, 14)"
      ]
     },
     "execution_count": 7,
     "metadata": {},
     "output_type": "execute_result"
    }
   ],
   "source": [
    "# Show number of columns and rows\n",
    "df.shape"
   ]
  },
  {
   "cell_type": "code",
   "execution_count": 8,
   "metadata": {},
   "outputs": [
    {
     "data": {
      "text/html": [
       "<div>\n",
       "<style scoped>\n",
       "    .dataframe tbody tr th:only-of-type {\n",
       "        vertical-align: middle;\n",
       "    }\n",
       "\n",
       "    .dataframe tbody tr th {\n",
       "        vertical-align: top;\n",
       "    }\n",
       "\n",
       "    .dataframe thead th {\n",
       "        text-align: right;\n",
       "    }\n",
       "</style>\n",
       "<table border=\"1\" class=\"dataframe\">\n",
       "  <thead>\n",
       "    <tr style=\"text-align: right;\">\n",
       "      <th></th>\n",
       "      <th>PatientId</th>\n",
       "      <th>AppointmentID</th>\n",
       "      <th>Age</th>\n",
       "      <th>Scholarship</th>\n",
       "      <th>Hipertension</th>\n",
       "      <th>Diabetes</th>\n",
       "      <th>Alcoholism</th>\n",
       "      <th>Handcap</th>\n",
       "      <th>SMS_received</th>\n",
       "    </tr>\n",
       "  </thead>\n",
       "  <tbody>\n",
       "    <tr>\n",
       "      <th>count</th>\n",
       "      <td>1.105270e+05</td>\n",
       "      <td>1.105270e+05</td>\n",
       "      <td>110527.000000</td>\n",
       "      <td>110527.000000</td>\n",
       "      <td>110527.000000</td>\n",
       "      <td>110527.000000</td>\n",
       "      <td>110527.000000</td>\n",
       "      <td>110527.000000</td>\n",
       "      <td>110527.000000</td>\n",
       "    </tr>\n",
       "    <tr>\n",
       "      <th>mean</th>\n",
       "      <td>1.474963e+14</td>\n",
       "      <td>5.675305e+06</td>\n",
       "      <td>37.088874</td>\n",
       "      <td>0.098266</td>\n",
       "      <td>0.197246</td>\n",
       "      <td>0.071865</td>\n",
       "      <td>0.030400</td>\n",
       "      <td>0.022248</td>\n",
       "      <td>0.321026</td>\n",
       "    </tr>\n",
       "    <tr>\n",
       "      <th>std</th>\n",
       "      <td>2.560949e+14</td>\n",
       "      <td>7.129575e+04</td>\n",
       "      <td>23.110205</td>\n",
       "      <td>0.297675</td>\n",
       "      <td>0.397921</td>\n",
       "      <td>0.258265</td>\n",
       "      <td>0.171686</td>\n",
       "      <td>0.161543</td>\n",
       "      <td>0.466873</td>\n",
       "    </tr>\n",
       "    <tr>\n",
       "      <th>min</th>\n",
       "      <td>3.921784e+04</td>\n",
       "      <td>5.030230e+06</td>\n",
       "      <td>-1.000000</td>\n",
       "      <td>0.000000</td>\n",
       "      <td>0.000000</td>\n",
       "      <td>0.000000</td>\n",
       "      <td>0.000000</td>\n",
       "      <td>0.000000</td>\n",
       "      <td>0.000000</td>\n",
       "    </tr>\n",
       "    <tr>\n",
       "      <th>25%</th>\n",
       "      <td>4.172614e+12</td>\n",
       "      <td>5.640286e+06</td>\n",
       "      <td>18.000000</td>\n",
       "      <td>0.000000</td>\n",
       "      <td>0.000000</td>\n",
       "      <td>0.000000</td>\n",
       "      <td>0.000000</td>\n",
       "      <td>0.000000</td>\n",
       "      <td>0.000000</td>\n",
       "    </tr>\n",
       "    <tr>\n",
       "      <th>50%</th>\n",
       "      <td>3.173184e+13</td>\n",
       "      <td>5.680573e+06</td>\n",
       "      <td>37.000000</td>\n",
       "      <td>0.000000</td>\n",
       "      <td>0.000000</td>\n",
       "      <td>0.000000</td>\n",
       "      <td>0.000000</td>\n",
       "      <td>0.000000</td>\n",
       "      <td>0.000000</td>\n",
       "    </tr>\n",
       "    <tr>\n",
       "      <th>75%</th>\n",
       "      <td>9.439172e+13</td>\n",
       "      <td>5.725524e+06</td>\n",
       "      <td>55.000000</td>\n",
       "      <td>0.000000</td>\n",
       "      <td>0.000000</td>\n",
       "      <td>0.000000</td>\n",
       "      <td>0.000000</td>\n",
       "      <td>0.000000</td>\n",
       "      <td>1.000000</td>\n",
       "    </tr>\n",
       "    <tr>\n",
       "      <th>max</th>\n",
       "      <td>9.999816e+14</td>\n",
       "      <td>5.790484e+06</td>\n",
       "      <td>115.000000</td>\n",
       "      <td>1.000000</td>\n",
       "      <td>1.000000</td>\n",
       "      <td>1.000000</td>\n",
       "      <td>1.000000</td>\n",
       "      <td>4.000000</td>\n",
       "      <td>1.000000</td>\n",
       "    </tr>\n",
       "  </tbody>\n",
       "</table>\n",
       "</div>"
      ],
      "text/plain": [
       "          PatientId  AppointmentID            Age    Scholarship  \\\n",
       "count  1.105270e+05   1.105270e+05  110527.000000  110527.000000   \n",
       "mean   1.474963e+14   5.675305e+06      37.088874       0.098266   \n",
       "std    2.560949e+14   7.129575e+04      23.110205       0.297675   \n",
       "min    3.921784e+04   5.030230e+06      -1.000000       0.000000   \n",
       "25%    4.172614e+12   5.640286e+06      18.000000       0.000000   \n",
       "50%    3.173184e+13   5.680573e+06      37.000000       0.000000   \n",
       "75%    9.439172e+13   5.725524e+06      55.000000       0.000000   \n",
       "max    9.999816e+14   5.790484e+06     115.000000       1.000000   \n",
       "\n",
       "        Hipertension       Diabetes     Alcoholism        Handcap  \\\n",
       "count  110527.000000  110527.000000  110527.000000  110527.000000   \n",
       "mean        0.197246       0.071865       0.030400       0.022248   \n",
       "std         0.397921       0.258265       0.171686       0.161543   \n",
       "min         0.000000       0.000000       0.000000       0.000000   \n",
       "25%         0.000000       0.000000       0.000000       0.000000   \n",
       "50%         0.000000       0.000000       0.000000       0.000000   \n",
       "75%         0.000000       0.000000       0.000000       0.000000   \n",
       "max         1.000000       1.000000       1.000000       4.000000   \n",
       "\n",
       "        SMS_received  \n",
       "count  110527.000000  \n",
       "mean        0.321026  \n",
       "std         0.466873  \n",
       "min         0.000000  \n",
       "25%         0.000000  \n",
       "50%         0.000000  \n",
       "75%         1.000000  \n",
       "max         1.000000  "
      ]
     },
     "execution_count": 8,
     "metadata": {},
     "output_type": "execute_result"
    }
   ],
   "source": [
    "# Statistic description for the data\n",
    "df.describe()"
   ]
  },
  {
   "cell_type": "code",
   "execution_count": 9,
   "metadata": {
    "scrolled": false
   },
   "outputs": [
    {
     "name": "stdout",
     "output_type": "stream",
     "text": [
      "<class 'pandas.core.frame.DataFrame'>\n",
      "RangeIndex: 110527 entries, 0 to 110526\n",
      "Data columns (total 14 columns):\n",
      " #   Column          Non-Null Count   Dtype  \n",
      "---  ------          --------------   -----  \n",
      " 0   PatientId       110527 non-null  float64\n",
      " 1   AppointmentID   110527 non-null  int64  \n",
      " 2   Gender          110527 non-null  object \n",
      " 3   ScheduledDay    110527 non-null  object \n",
      " 4   AppointmentDay  110527 non-null  object \n",
      " 5   Age             110527 non-null  int64  \n",
      " 6   Neighbourhood   110527 non-null  object \n",
      " 7   Scholarship     110527 non-null  int64  \n",
      " 8   Hipertension    110527 non-null  int64  \n",
      " 9   Diabetes        110527 non-null  int64  \n",
      " 10  Alcoholism      110527 non-null  int64  \n",
      " 11  Handcap         110527 non-null  int64  \n",
      " 12  SMS_received    110527 non-null  int64  \n",
      " 13  No-show         110527 non-null  object \n",
      "dtypes: float64(1), int64(8), object(5)\n",
      "memory usage: 11.8+ MB\n"
     ]
    }
   ],
   "source": [
    "# info about the nonnull values and dtype for each column\n",
    "df.info()"
   ]
  },
  {
   "cell_type": "code",
   "execution_count": 10,
   "metadata": {},
   "outputs": [],
   "source": [
    "# function to Convert data type for ScheduledDay and AppointmentDay columns from odject to date\n",
    "def Convert_date(date):\n",
    "    return  pd.to_datetime(date, format='%d%b%Y', infer_datetime_format=True).dt.date\n",
    "\n",
    "df['ScheduledDay'] = Convert_date(df['ScheduledDay'])\n",
    "df['AppointmentDay']  = Convert_date(df['AppointmentDay'])\n",
    "# Column for days between Appointment Day and Scheduled Day\n",
    "df['WaitingDays'] = df['AppointmentDay'] - df['ScheduledDay']"
   ]
  },
  {
   "cell_type": "code",
   "execution_count": 11,
   "metadata": {},
   "outputs": [
    {
     "data": {
      "text/html": [
       "<div>\n",
       "<style scoped>\n",
       "    .dataframe tbody tr th:only-of-type {\n",
       "        vertical-align: middle;\n",
       "    }\n",
       "\n",
       "    .dataframe tbody tr th {\n",
       "        vertical-align: top;\n",
       "    }\n",
       "\n",
       "    .dataframe thead th {\n",
       "        text-align: right;\n",
       "    }\n",
       "</style>\n",
       "<table border=\"1\" class=\"dataframe\">\n",
       "  <thead>\n",
       "    <tr style=\"text-align: right;\">\n",
       "      <th></th>\n",
       "      <th>PatientId</th>\n",
       "      <th>AppointmentID</th>\n",
       "      <th>Gender</th>\n",
       "      <th>ScheduledDay</th>\n",
       "      <th>AppointmentDay</th>\n",
       "      <th>Age</th>\n",
       "      <th>Neighbourhood</th>\n",
       "      <th>Scholarship</th>\n",
       "      <th>Hipertension</th>\n",
       "      <th>Diabetes</th>\n",
       "      <th>Alcoholism</th>\n",
       "      <th>Handcap</th>\n",
       "      <th>SMS_received</th>\n",
       "      <th>No-show</th>\n",
       "      <th>WaitingDays</th>\n",
       "    </tr>\n",
       "  </thead>\n",
       "  <tbody>\n",
       "    <tr>\n",
       "      <th>0</th>\n",
       "      <td>2.987250e+13</td>\n",
       "      <td>5642903</td>\n",
       "      <td>F</td>\n",
       "      <td>2016-04-29</td>\n",
       "      <td>2016-04-29</td>\n",
       "      <td>62</td>\n",
       "      <td>JARDIM DA PENHA</td>\n",
       "      <td>0</td>\n",
       "      <td>1</td>\n",
       "      <td>0</td>\n",
       "      <td>0</td>\n",
       "      <td>0</td>\n",
       "      <td>0</td>\n",
       "      <td>No</td>\n",
       "      <td>0 days</td>\n",
       "    </tr>\n",
       "    <tr>\n",
       "      <th>1</th>\n",
       "      <td>5.589978e+14</td>\n",
       "      <td>5642503</td>\n",
       "      <td>M</td>\n",
       "      <td>2016-04-29</td>\n",
       "      <td>2016-04-29</td>\n",
       "      <td>56</td>\n",
       "      <td>JARDIM DA PENHA</td>\n",
       "      <td>0</td>\n",
       "      <td>0</td>\n",
       "      <td>0</td>\n",
       "      <td>0</td>\n",
       "      <td>0</td>\n",
       "      <td>0</td>\n",
       "      <td>No</td>\n",
       "      <td>0 days</td>\n",
       "    </tr>\n",
       "    <tr>\n",
       "      <th>2</th>\n",
       "      <td>4.262962e+12</td>\n",
       "      <td>5642549</td>\n",
       "      <td>F</td>\n",
       "      <td>2016-04-29</td>\n",
       "      <td>2016-04-29</td>\n",
       "      <td>62</td>\n",
       "      <td>MATA DA PRAIA</td>\n",
       "      <td>0</td>\n",
       "      <td>0</td>\n",
       "      <td>0</td>\n",
       "      <td>0</td>\n",
       "      <td>0</td>\n",
       "      <td>0</td>\n",
       "      <td>No</td>\n",
       "      <td>0 days</td>\n",
       "    </tr>\n",
       "    <tr>\n",
       "      <th>3</th>\n",
       "      <td>8.679512e+11</td>\n",
       "      <td>5642828</td>\n",
       "      <td>F</td>\n",
       "      <td>2016-04-29</td>\n",
       "      <td>2016-04-29</td>\n",
       "      <td>8</td>\n",
       "      <td>PONTAL DE CAMBURI</td>\n",
       "      <td>0</td>\n",
       "      <td>0</td>\n",
       "      <td>0</td>\n",
       "      <td>0</td>\n",
       "      <td>0</td>\n",
       "      <td>0</td>\n",
       "      <td>No</td>\n",
       "      <td>0 days</td>\n",
       "    </tr>\n",
       "    <tr>\n",
       "      <th>4</th>\n",
       "      <td>8.841186e+12</td>\n",
       "      <td>5642494</td>\n",
       "      <td>F</td>\n",
       "      <td>2016-04-29</td>\n",
       "      <td>2016-04-29</td>\n",
       "      <td>56</td>\n",
       "      <td>JARDIM DA PENHA</td>\n",
       "      <td>0</td>\n",
       "      <td>1</td>\n",
       "      <td>1</td>\n",
       "      <td>0</td>\n",
       "      <td>0</td>\n",
       "      <td>0</td>\n",
       "      <td>No</td>\n",
       "      <td>0 days</td>\n",
       "    </tr>\n",
       "    <tr>\n",
       "      <th>5</th>\n",
       "      <td>9.598513e+13</td>\n",
       "      <td>5626772</td>\n",
       "      <td>F</td>\n",
       "      <td>2016-04-27</td>\n",
       "      <td>2016-04-29</td>\n",
       "      <td>76</td>\n",
       "      <td>REPÚBLICA</td>\n",
       "      <td>0</td>\n",
       "      <td>1</td>\n",
       "      <td>0</td>\n",
       "      <td>0</td>\n",
       "      <td>0</td>\n",
       "      <td>0</td>\n",
       "      <td>No</td>\n",
       "      <td>2 days</td>\n",
       "    </tr>\n",
       "    <tr>\n",
       "      <th>6</th>\n",
       "      <td>7.336882e+14</td>\n",
       "      <td>5630279</td>\n",
       "      <td>F</td>\n",
       "      <td>2016-04-27</td>\n",
       "      <td>2016-04-29</td>\n",
       "      <td>23</td>\n",
       "      <td>GOIABEIRAS</td>\n",
       "      <td>0</td>\n",
       "      <td>0</td>\n",
       "      <td>0</td>\n",
       "      <td>0</td>\n",
       "      <td>0</td>\n",
       "      <td>0</td>\n",
       "      <td>Yes</td>\n",
       "      <td>2 days</td>\n",
       "    </tr>\n",
       "    <tr>\n",
       "      <th>7</th>\n",
       "      <td>3.449833e+12</td>\n",
       "      <td>5630575</td>\n",
       "      <td>F</td>\n",
       "      <td>2016-04-27</td>\n",
       "      <td>2016-04-29</td>\n",
       "      <td>39</td>\n",
       "      <td>GOIABEIRAS</td>\n",
       "      <td>0</td>\n",
       "      <td>0</td>\n",
       "      <td>0</td>\n",
       "      <td>0</td>\n",
       "      <td>0</td>\n",
       "      <td>0</td>\n",
       "      <td>Yes</td>\n",
       "      <td>2 days</td>\n",
       "    </tr>\n",
       "    <tr>\n",
       "      <th>8</th>\n",
       "      <td>5.639473e+13</td>\n",
       "      <td>5638447</td>\n",
       "      <td>F</td>\n",
       "      <td>2016-04-29</td>\n",
       "      <td>2016-04-29</td>\n",
       "      <td>21</td>\n",
       "      <td>ANDORINHAS</td>\n",
       "      <td>0</td>\n",
       "      <td>0</td>\n",
       "      <td>0</td>\n",
       "      <td>0</td>\n",
       "      <td>0</td>\n",
       "      <td>0</td>\n",
       "      <td>No</td>\n",
       "      <td>0 days</td>\n",
       "    </tr>\n",
       "    <tr>\n",
       "      <th>9</th>\n",
       "      <td>7.812456e+13</td>\n",
       "      <td>5629123</td>\n",
       "      <td>F</td>\n",
       "      <td>2016-04-27</td>\n",
       "      <td>2016-04-29</td>\n",
       "      <td>19</td>\n",
       "      <td>CONQUISTA</td>\n",
       "      <td>0</td>\n",
       "      <td>0</td>\n",
       "      <td>0</td>\n",
       "      <td>0</td>\n",
       "      <td>0</td>\n",
       "      <td>0</td>\n",
       "      <td>No</td>\n",
       "      <td>2 days</td>\n",
       "    </tr>\n",
       "  </tbody>\n",
       "</table>\n",
       "</div>"
      ],
      "text/plain": [
       "      PatientId  AppointmentID Gender ScheduledDay AppointmentDay  Age  \\\n",
       "0  2.987250e+13        5642903      F   2016-04-29     2016-04-29   62   \n",
       "1  5.589978e+14        5642503      M   2016-04-29     2016-04-29   56   \n",
       "2  4.262962e+12        5642549      F   2016-04-29     2016-04-29   62   \n",
       "3  8.679512e+11        5642828      F   2016-04-29     2016-04-29    8   \n",
       "4  8.841186e+12        5642494      F   2016-04-29     2016-04-29   56   \n",
       "5  9.598513e+13        5626772      F   2016-04-27     2016-04-29   76   \n",
       "6  7.336882e+14        5630279      F   2016-04-27     2016-04-29   23   \n",
       "7  3.449833e+12        5630575      F   2016-04-27     2016-04-29   39   \n",
       "8  5.639473e+13        5638447      F   2016-04-29     2016-04-29   21   \n",
       "9  7.812456e+13        5629123      F   2016-04-27     2016-04-29   19   \n",
       "\n",
       "       Neighbourhood  Scholarship  Hipertension  Diabetes  Alcoholism  \\\n",
       "0    JARDIM DA PENHA            0             1         0           0   \n",
       "1    JARDIM DA PENHA            0             0         0           0   \n",
       "2      MATA DA PRAIA            0             0         0           0   \n",
       "3  PONTAL DE CAMBURI            0             0         0           0   \n",
       "4    JARDIM DA PENHA            0             1         1           0   \n",
       "5          REPÚBLICA            0             1         0           0   \n",
       "6         GOIABEIRAS            0             0         0           0   \n",
       "7         GOIABEIRAS            0             0         0           0   \n",
       "8         ANDORINHAS            0             0         0           0   \n",
       "9          CONQUISTA            0             0         0           0   \n",
       "\n",
       "   Handcap  SMS_received No-show WaitingDays  \n",
       "0        0             0      No      0 days  \n",
       "1        0             0      No      0 days  \n",
       "2        0             0      No      0 days  \n",
       "3        0             0      No      0 days  \n",
       "4        0             0      No      0 days  \n",
       "5        0             0      No      2 days  \n",
       "6        0             0     Yes      2 days  \n",
       "7        0             0     Yes      2 days  \n",
       "8        0             0      No      0 days  \n",
       "9        0             0      No      2 days  "
      ]
     },
     "execution_count": 11,
     "metadata": {},
     "output_type": "execute_result"
    }
   ],
   "source": [
    "df.head(10)"
   ]
  },
  {
   "cell_type": "markdown",
   "metadata": {},
   "source": [
    "## Data Cleaning :\n",
    "\n",
    "### Rename columns, Drop columns, Seperate dataset"
   ]
  },
  {
   "cell_type": "code",
   "execution_count": 12,
   "metadata": {
    "scrolled": true
   },
   "outputs": [
    {
     "name": "stdout",
     "output_type": "stream",
     "text": [
      "<class 'pandas.core.frame.DataFrame'>\n",
      "RangeIndex: 110527 entries, 0 to 110526\n",
      "Data columns (total 15 columns):\n",
      " #   Column          Non-Null Count   Dtype          \n",
      "---  ------          --------------   -----          \n",
      " 0   PatientId       110527 non-null  float64        \n",
      " 1   AppointmentID   110527 non-null  int64          \n",
      " 2   Gender          110527 non-null  object         \n",
      " 3   ScheduledDay    110527 non-null  object         \n",
      " 4   AppointmentDay  110527 non-null  object         \n",
      " 5   Age             110527 non-null  int64          \n",
      " 6   Neighbourhood   110527 non-null  object         \n",
      " 7   Scholarship     110527 non-null  int64          \n",
      " 8   Hipertension    110527 non-null  int64          \n",
      " 9   Diabetes        110527 non-null  int64          \n",
      " 10  Alcoholism      110527 non-null  int64          \n",
      " 11  Handcap         110527 non-null  int64          \n",
      " 12  SMS_received    110527 non-null  int64          \n",
      " 13  No-show         110527 non-null  object         \n",
      " 14  WaitingDays     110527 non-null  timedelta64[ns]\n",
      "dtypes: float64(1), int64(8), object(5), timedelta64[ns](1)\n",
      "memory usage: 12.6+ MB\n"
     ]
    }
   ],
   "source": [
    "df.info()"
   ]
  },
  {
   "cell_type": "code",
   "execution_count": 13,
   "metadata": {},
   "outputs": [],
   "source": [
    "df.rename(columns={'No-show':'No_show'}, inplace=True)"
   ]
  },
  {
   "cell_type": "code",
   "execution_count": 14,
   "metadata": {
    "scrolled": false
   },
   "outputs": [],
   "source": [
    "df.drop(['PatientId','AppointmentID','ScheduledDay','AppointmentDay'], axis=1, inplace=True)"
   ]
  },
  {
   "cell_type": "code",
   "execution_count": 15,
   "metadata": {},
   "outputs": [],
   "source": [
    "df_show = df[df['No_show'] == 'No']\n",
    "df_noshow = df[df['No_show'] == 'Yes']"
   ]
  },
  {
   "cell_type": "markdown",
   "metadata": {},
   "source": [
    "<a id='eda'></a>\n",
    "## Exploratory Data Analysis"
   ]
  },
  {
   "cell_type": "markdown",
   "metadata": {},
   "source": [
    "### Correlation matrix used to estimate the linear historical relationship between columns ."
   ]
  },
  {
   "cell_type": "code",
   "execution_count": 12,
   "metadata": {},
   "outputs": [
    {
     "data": {
      "text/html": [
       "<style  type=\"text/css\" >\n",
       "    #T_fdedb2e1_544c_11eb_9309_982cbc78af45row0_col0 {\n",
       "            background-color:  #023858;\n",
       "            color:  #f1f1f1;\n",
       "        }    #T_fdedb2e1_544c_11eb_9309_982cbc78af45row0_col1 {\n",
       "            background-color:  #fff7fb;\n",
       "            color:  #000000;\n",
       "        }    #T_fdedb2e1_544c_11eb_9309_982cbc78af45row0_col2 {\n",
       "            background-color:  #6da6cd;\n",
       "            color:  #000000;\n",
       "        }    #T_fdedb2e1_544c_11eb_9309_982cbc78af45row0_col3 {\n",
       "            background-color:  #bcc7e1;\n",
       "            color:  #000000;\n",
       "        }    #T_fdedb2e1_544c_11eb_9309_982cbc78af45row0_col4 {\n",
       "            background-color:  #ede8f3;\n",
       "            color:  #000000;\n",
       "        }    #T_fdedb2e1_544c_11eb_9309_982cbc78af45row0_col5 {\n",
       "            background-color:  #f0eaf4;\n",
       "            color:  #000000;\n",
       "        }    #T_fdedb2e1_544c_11eb_9309_982cbc78af45row0_col6 {\n",
       "            background-color:  #faf2f8;\n",
       "            color:  #000000;\n",
       "        }    #T_fdedb2e1_544c_11eb_9309_982cbc78af45row1_col0 {\n",
       "            background-color:  #fff7fb;\n",
       "            color:  #000000;\n",
       "        }    #T_fdedb2e1_544c_11eb_9309_982cbc78af45row1_col1 {\n",
       "            background-color:  #023858;\n",
       "            color:  #f1f1f1;\n",
       "        }    #T_fdedb2e1_544c_11eb_9309_982cbc78af45row1_col2 {\n",
       "            background-color:  #fff7fb;\n",
       "            color:  #000000;\n",
       "        }    #T_fdedb2e1_544c_11eb_9309_982cbc78af45row1_col3 {\n",
       "            background-color:  #fff7fb;\n",
       "            color:  #000000;\n",
       "        }    #T_fdedb2e1_544c_11eb_9309_982cbc78af45row1_col4 {\n",
       "            background-color:  #f6eff7;\n",
       "            color:  #000000;\n",
       "        }    #T_fdedb2e1_544c_11eb_9309_982cbc78af45row1_col5 {\n",
       "            background-color:  #fdf5fa;\n",
       "            color:  #000000;\n",
       "        }    #T_fdedb2e1_544c_11eb_9309_982cbc78af45row1_col6 {\n",
       "            background-color:  #fbf4f9;\n",
       "            color:  #000000;\n",
       "        }    #T_fdedb2e1_544c_11eb_9309_982cbc78af45row2_col0 {\n",
       "            background-color:  #5ea0ca;\n",
       "            color:  #000000;\n",
       "        }    #T_fdedb2e1_544c_11eb_9309_982cbc78af45row2_col1 {\n",
       "            background-color:  #f5eef6;\n",
       "            color:  #000000;\n",
       "        }    #T_fdedb2e1_544c_11eb_9309_982cbc78af45row2_col2 {\n",
       "            background-color:  #023858;\n",
       "            color:  #f1f1f1;\n",
       "        }    #T_fdedb2e1_544c_11eb_9309_982cbc78af45row2_col3 {\n",
       "            background-color:  #89b1d4;\n",
       "            color:  #000000;\n",
       "        }    #T_fdedb2e1_544c_11eb_9309_982cbc78af45row2_col4 {\n",
       "            background-color:  #eee9f3;\n",
       "            color:  #000000;\n",
       "        }    #T_fdedb2e1_544c_11eb_9309_982cbc78af45row2_col5 {\n",
       "            background-color:  #f0eaf4;\n",
       "            color:  #000000;\n",
       "        }    #T_fdedb2e1_544c_11eb_9309_982cbc78af45row2_col6 {\n",
       "            background-color:  #fdf5fa;\n",
       "            color:  #000000;\n",
       "        }    #T_fdedb2e1_544c_11eb_9309_982cbc78af45row3_col0 {\n",
       "            background-color:  #adc1dd;\n",
       "            color:  #000000;\n",
       "        }    #T_fdedb2e1_544c_11eb_9309_982cbc78af45row3_col1 {\n",
       "            background-color:  #f6eff7;\n",
       "            color:  #000000;\n",
       "        }    #T_fdedb2e1_544c_11eb_9309_982cbc78af45row3_col2 {\n",
       "            background-color:  #8bb2d4;\n",
       "            color:  #000000;\n",
       "        }    #T_fdedb2e1_544c_11eb_9309_982cbc78af45row3_col3 {\n",
       "            background-color:  #023858;\n",
       "            color:  #f1f1f1;\n",
       "        }    #T_fdedb2e1_544c_11eb_9309_982cbc78af45row3_col4 {\n",
       "            background-color:  #f8f1f8;\n",
       "            color:  #000000;\n",
       "        }    #T_fdedb2e1_544c_11eb_9309_982cbc78af45row3_col5 {\n",
       "            background-color:  #f3edf5;\n",
       "            color:  #000000;\n",
       "        }    #T_fdedb2e1_544c_11eb_9309_982cbc78af45row3_col6 {\n",
       "            background-color:  #fef6fa;\n",
       "            color:  #000000;\n",
       "        }    #T_fdedb2e1_544c_11eb_9309_982cbc78af45row4_col0 {\n",
       "            background-color:  #e1dfed;\n",
       "            color:  #000000;\n",
       "        }    #T_fdedb2e1_544c_11eb_9309_982cbc78af45row4_col1 {\n",
       "            background-color:  #eee8f3;\n",
       "            color:  #000000;\n",
       "        }    #T_fdedb2e1_544c_11eb_9309_982cbc78af45row4_col2 {\n",
       "            background-color:  #efe9f3;\n",
       "            color:  #000000;\n",
       "        }    #T_fdedb2e1_544c_11eb_9309_982cbc78af45row4_col3 {\n",
       "            background-color:  #f9f2f8;\n",
       "            color:  #000000;\n",
       "        }    #T_fdedb2e1_544c_11eb_9309_982cbc78af45row4_col4 {\n",
       "            background-color:  #023858;\n",
       "            color:  #f1f1f1;\n",
       "        }    #T_fdedb2e1_544c_11eb_9309_982cbc78af45row4_col5 {\n",
       "            background-color:  #fbf3f9;\n",
       "            color:  #000000;\n",
       "        }    #T_fdedb2e1_544c_11eb_9309_982cbc78af45row4_col6 {\n",
       "            background-color:  #fff7fb;\n",
       "            color:  #000000;\n",
       "        }    #T_fdedb2e1_544c_11eb_9309_982cbc78af45row5_col0 {\n",
       "            background-color:  #e6e2ef;\n",
       "            color:  #000000;\n",
       "        }    #T_fdedb2e1_544c_11eb_9309_982cbc78af45row5_col1 {\n",
       "            background-color:  #f4edf6;\n",
       "            color:  #000000;\n",
       "        }    #T_fdedb2e1_544c_11eb_9309_982cbc78af45row5_col2 {\n",
       "            background-color:  #f0eaf4;\n",
       "            color:  #000000;\n",
       "        }    #T_fdedb2e1_544c_11eb_9309_982cbc78af45row5_col3 {\n",
       "            background-color:  #f3edf5;\n",
       "            color:  #000000;\n",
       "        }    #T_fdedb2e1_544c_11eb_9309_982cbc78af45row5_col4 {\n",
       "            background-color:  #fbf3f9;\n",
       "            color:  #000000;\n",
       "        }    #T_fdedb2e1_544c_11eb_9309_982cbc78af45row5_col5 {\n",
       "            background-color:  #023858;\n",
       "            color:  #f1f1f1;\n",
       "        }    #T_fdedb2e1_544c_11eb_9309_982cbc78af45row5_col6 {\n",
       "            background-color:  #fff7fb;\n",
       "            color:  #000000;\n",
       "        }    #T_fdedb2e1_544c_11eb_9309_982cbc78af45row6_col0 {\n",
       "            background-color:  #f1ebf4;\n",
       "            color:  #000000;\n",
       "        }    #T_fdedb2e1_544c_11eb_9309_982cbc78af45row6_col1 {\n",
       "            background-color:  #f2ecf5;\n",
       "            color:  #000000;\n",
       "        }    #T_fdedb2e1_544c_11eb_9309_982cbc78af45row6_col2 {\n",
       "            background-color:  #fdf5fa;\n",
       "            color:  #000000;\n",
       "        }    #T_fdedb2e1_544c_11eb_9309_982cbc78af45row6_col3 {\n",
       "            background-color:  #fef6fa;\n",
       "            color:  #000000;\n",
       "        }    #T_fdedb2e1_544c_11eb_9309_982cbc78af45row6_col4 {\n",
       "            background-color:  #fff7fb;\n",
       "            color:  #000000;\n",
       "        }    #T_fdedb2e1_544c_11eb_9309_982cbc78af45row6_col5 {\n",
       "            background-color:  #fff7fb;\n",
       "            color:  #000000;\n",
       "        }    #T_fdedb2e1_544c_11eb_9309_982cbc78af45row6_col6 {\n",
       "            background-color:  #023858;\n",
       "            color:  #f1f1f1;\n",
       "        }</style><table id=\"T_fdedb2e1_544c_11eb_9309_982cbc78af45\" ><thead>    <tr>        <th class=\"blank level0\" ></th>        <th class=\"col_heading level0 col0\" >Age</th>        <th class=\"col_heading level0 col1\" >Scholarship</th>        <th class=\"col_heading level0 col2\" >Hipertension</th>        <th class=\"col_heading level0 col3\" >Diabetes</th>        <th class=\"col_heading level0 col4\" >Alcoholism</th>        <th class=\"col_heading level0 col5\" >Handcap</th>        <th class=\"col_heading level0 col6\" >SMS_received</th>    </tr></thead><tbody>\n",
       "                <tr>\n",
       "                        <th id=\"T_fdedb2e1_544c_11eb_9309_982cbc78af45level0_row0\" class=\"row_heading level0 row0\" >Age</th>\n",
       "                        <td id=\"T_fdedb2e1_544c_11eb_9309_982cbc78af45row0_col0\" class=\"data row0 col0\" >1.000000</td>\n",
       "                        <td id=\"T_fdedb2e1_544c_11eb_9309_982cbc78af45row0_col1\" class=\"data row0 col1\" >-0.092457</td>\n",
       "                        <td id=\"T_fdedb2e1_544c_11eb_9309_982cbc78af45row0_col2\" class=\"data row0 col2\" >0.504586</td>\n",
       "                        <td id=\"T_fdedb2e1_544c_11eb_9309_982cbc78af45row0_col3\" class=\"data row0 col3\" >0.292391</td>\n",
       "                        <td id=\"T_fdedb2e1_544c_11eb_9309_982cbc78af45row0_col4\" class=\"data row0 col4\" >0.095811</td>\n",
       "                        <td id=\"T_fdedb2e1_544c_11eb_9309_982cbc78af45row0_col5\" class=\"data row0 col5\" >0.078033</td>\n",
       "                        <td id=\"T_fdedb2e1_544c_11eb_9309_982cbc78af45row0_col6\" class=\"data row0 col6\" >0.012643</td>\n",
       "            </tr>\n",
       "            <tr>\n",
       "                        <th id=\"T_fdedb2e1_544c_11eb_9309_982cbc78af45level0_row1\" class=\"row_heading level0 row1\" >Scholarship</th>\n",
       "                        <td id=\"T_fdedb2e1_544c_11eb_9309_982cbc78af45row1_col0\" class=\"data row1 col0\" >-0.092457</td>\n",
       "                        <td id=\"T_fdedb2e1_544c_11eb_9309_982cbc78af45row1_col1\" class=\"data row1 col1\" >1.000000</td>\n",
       "                        <td id=\"T_fdedb2e1_544c_11eb_9309_982cbc78af45row1_col2\" class=\"data row1 col2\" >-0.019729</td>\n",
       "                        <td id=\"T_fdedb2e1_544c_11eb_9309_982cbc78af45row1_col3\" class=\"data row1 col3\" >-0.024894</td>\n",
       "                        <td id=\"T_fdedb2e1_544c_11eb_9309_982cbc78af45row1_col4\" class=\"data row1 col4\" >0.035022</td>\n",
       "                        <td id=\"T_fdedb2e1_544c_11eb_9309_982cbc78af45row1_col5\" class=\"data row1 col5\" >-0.008586</td>\n",
       "                        <td id=\"T_fdedb2e1_544c_11eb_9309_982cbc78af45row1_col6\" class=\"data row1 col6\" >0.001194</td>\n",
       "            </tr>\n",
       "            <tr>\n",
       "                        <th id=\"T_fdedb2e1_544c_11eb_9309_982cbc78af45level0_row2\" class=\"row_heading level0 row2\" >Hipertension</th>\n",
       "                        <td id=\"T_fdedb2e1_544c_11eb_9309_982cbc78af45row2_col0\" class=\"data row2 col0\" >0.504586</td>\n",
       "                        <td id=\"T_fdedb2e1_544c_11eb_9309_982cbc78af45row2_col1\" class=\"data row2 col1\" >-0.019729</td>\n",
       "                        <td id=\"T_fdedb2e1_544c_11eb_9309_982cbc78af45row2_col2\" class=\"data row2 col2\" >1.000000</td>\n",
       "                        <td id=\"T_fdedb2e1_544c_11eb_9309_982cbc78af45row2_col3\" class=\"data row2 col3\" >0.433086</td>\n",
       "                        <td id=\"T_fdedb2e1_544c_11eb_9309_982cbc78af45row2_col4\" class=\"data row2 col4\" >0.087971</td>\n",
       "                        <td id=\"T_fdedb2e1_544c_11eb_9309_982cbc78af45row2_col5\" class=\"data row2 col5\" >0.080083</td>\n",
       "                        <td id=\"T_fdedb2e1_544c_11eb_9309_982cbc78af45row2_col6\" class=\"data row2 col6\" >-0.006267</td>\n",
       "            </tr>\n",
       "            <tr>\n",
       "                        <th id=\"T_fdedb2e1_544c_11eb_9309_982cbc78af45level0_row3\" class=\"row_heading level0 row3\" >Diabetes</th>\n",
       "                        <td id=\"T_fdedb2e1_544c_11eb_9309_982cbc78af45row3_col0\" class=\"data row3 col0\" >0.292391</td>\n",
       "                        <td id=\"T_fdedb2e1_544c_11eb_9309_982cbc78af45row3_col1\" class=\"data row3 col1\" >-0.024894</td>\n",
       "                        <td id=\"T_fdedb2e1_544c_11eb_9309_982cbc78af45row3_col2\" class=\"data row3 col2\" >0.433086</td>\n",
       "                        <td id=\"T_fdedb2e1_544c_11eb_9309_982cbc78af45row3_col3\" class=\"data row3 col3\" >1.000000</td>\n",
       "                        <td id=\"T_fdedb2e1_544c_11eb_9309_982cbc78af45row3_col4\" class=\"data row3 col4\" >0.018474</td>\n",
       "                        <td id=\"T_fdedb2e1_544c_11eb_9309_982cbc78af45row3_col5\" class=\"data row3 col5\" >0.057530</td>\n",
       "                        <td id=\"T_fdedb2e1_544c_11eb_9309_982cbc78af45row3_col6\" class=\"data row3 col6\" >-0.014550</td>\n",
       "            </tr>\n",
       "            <tr>\n",
       "                        <th id=\"T_fdedb2e1_544c_11eb_9309_982cbc78af45level0_row4\" class=\"row_heading level0 row4\" >Alcoholism</th>\n",
       "                        <td id=\"T_fdedb2e1_544c_11eb_9309_982cbc78af45row4_col0\" class=\"data row4 col0\" >0.095811</td>\n",
       "                        <td id=\"T_fdedb2e1_544c_11eb_9309_982cbc78af45row4_col1\" class=\"data row4 col1\" >0.035022</td>\n",
       "                        <td id=\"T_fdedb2e1_544c_11eb_9309_982cbc78af45row4_col2\" class=\"data row4 col2\" >0.087971</td>\n",
       "                        <td id=\"T_fdedb2e1_544c_11eb_9309_982cbc78af45row4_col3\" class=\"data row4 col3\" >0.018474</td>\n",
       "                        <td id=\"T_fdedb2e1_544c_11eb_9309_982cbc78af45row4_col4\" class=\"data row4 col4\" >1.000000</td>\n",
       "                        <td id=\"T_fdedb2e1_544c_11eb_9309_982cbc78af45row4_col5\" class=\"data row4 col5\" >0.004648</td>\n",
       "                        <td id=\"T_fdedb2e1_544c_11eb_9309_982cbc78af45row4_col6\" class=\"data row4 col6\" >-0.026147</td>\n",
       "            </tr>\n",
       "            <tr>\n",
       "                        <th id=\"T_fdedb2e1_544c_11eb_9309_982cbc78af45level0_row5\" class=\"row_heading level0 row5\" >Handcap</th>\n",
       "                        <td id=\"T_fdedb2e1_544c_11eb_9309_982cbc78af45row5_col0\" class=\"data row5 col0\" >0.078033</td>\n",
       "                        <td id=\"T_fdedb2e1_544c_11eb_9309_982cbc78af45row5_col1\" class=\"data row5 col1\" >-0.008586</td>\n",
       "                        <td id=\"T_fdedb2e1_544c_11eb_9309_982cbc78af45row5_col2\" class=\"data row5 col2\" >0.080083</td>\n",
       "                        <td id=\"T_fdedb2e1_544c_11eb_9309_982cbc78af45row5_col3\" class=\"data row5 col3\" >0.057530</td>\n",
       "                        <td id=\"T_fdedb2e1_544c_11eb_9309_982cbc78af45row5_col4\" class=\"data row5 col4\" >0.004648</td>\n",
       "                        <td id=\"T_fdedb2e1_544c_11eb_9309_982cbc78af45row5_col5\" class=\"data row5 col5\" >1.000000</td>\n",
       "                        <td id=\"T_fdedb2e1_544c_11eb_9309_982cbc78af45row5_col6\" class=\"data row5 col6\" >-0.024161</td>\n",
       "            </tr>\n",
       "            <tr>\n",
       "                        <th id=\"T_fdedb2e1_544c_11eb_9309_982cbc78af45level0_row6\" class=\"row_heading level0 row6\" >SMS_received</th>\n",
       "                        <td id=\"T_fdedb2e1_544c_11eb_9309_982cbc78af45row6_col0\" class=\"data row6 col0\" >0.012643</td>\n",
       "                        <td id=\"T_fdedb2e1_544c_11eb_9309_982cbc78af45row6_col1\" class=\"data row6 col1\" >0.001194</td>\n",
       "                        <td id=\"T_fdedb2e1_544c_11eb_9309_982cbc78af45row6_col2\" class=\"data row6 col2\" >-0.006267</td>\n",
       "                        <td id=\"T_fdedb2e1_544c_11eb_9309_982cbc78af45row6_col3\" class=\"data row6 col3\" >-0.014550</td>\n",
       "                        <td id=\"T_fdedb2e1_544c_11eb_9309_982cbc78af45row6_col4\" class=\"data row6 col4\" >-0.026147</td>\n",
       "                        <td id=\"T_fdedb2e1_544c_11eb_9309_982cbc78af45row6_col5\" class=\"data row6 col5\" >-0.024161</td>\n",
       "                        <td id=\"T_fdedb2e1_544c_11eb_9309_982cbc78af45row6_col6\" class=\"data row6 col6\" >1.000000</td>\n",
       "            </tr>\n",
       "    </tbody></table>"
      ],
      "text/plain": [
       "<pandas.io.formats.style.Styler at 0x2d11bdc7e80>"
      ]
     },
     "execution_count": 12,
     "metadata": {},
     "output_type": "execute_result"
    }
   ],
   "source": [
    "# Correlation matrix for the df\n",
    "c = df.corr()\n",
    "c.style.background_gradient()"
   ]
  },
  {
   "cell_type": "markdown",
   "metadata": {},
   "source": [
    "## Research Question 1 : What are characteristics of people who reserve an appointments?\n",
    "\n",
    "#### Visualizations here show characteristics for people who reserved their appointments such age Alcoholism Diabetes and handcap .. etc ."
   ]
  },
  {
   "cell_type": "code",
   "execution_count": 13,
   "metadata": {
    "scrolled": false
   },
   "outputs": [
    {
     "data": {
      "image/png": "[encoded data removed]",
      "text/plain": [
       "<Figure size 720x576 with 9 Axes>"
      ]
     },
     "metadata": {
      "needs_background": "light"
     },
     "output_type": "display_data"
    }
   ],
   "source": [
    "# Histograms for all characteristics for people who reserved an appointments\n",
    "df.hist(figsize=(10, 8));"
   ]
  },
  {
   "cell_type": "markdown",
   "metadata": {},
   "source": [
    "#### Visualizations here show characteristics for people who attended their appointments such age Alcoholism Diabetes and handcap .. etc"
   ]
  },
  {
   "cell_type": "code",
   "execution_count": 14,
   "metadata": {
    "scrolled": false
   },
   "outputs": [
    {
     "data": {
      "image/png": "[encoded data removed]",
      "text/plain": [
       "<Figure size 720x576 with 9 Axes>"
      ]
     },
     "metadata": {
      "needs_background": "light"
     },
     "output_type": "display_data"
    }
   ],
   "source": [
    "# Histograms for all characteristics for people who attended their reserved appointments\n",
    "df_show.hist(figsize=(10, 8));"
   ]
  },
  {
   "cell_type": "markdown",
   "metadata": {},
   "source": [
    "#### Visualizations here show characteristics for people who absented their appointments such age Alcoholism Diabetes and handcap .. etc"
   ]
  },
  {
   "cell_type": "code",
   "execution_count": 15,
   "metadata": {},
   "outputs": [
    {
     "data": {
      "image/png": "[encoded data removed]",
      "text/plain": [
       "<Figure size 720x576 with 9 Axes>"
      ]
     },
     "metadata": {
      "needs_background": "light"
     },
     "output_type": "display_data"
    }
   ],
   "source": [
    "# Histograms for all characteristics for people who didn't attend their reserved appointments\n",
    "df_noshow.hist(figsize=(10, 8));"
   ]
  },
  {
   "cell_type": "markdown",
   "metadata": {},
   "source": [
    "### Of course characteristics like SMS_received and Scholarship make some people attend and may in future have high effect in making people attend in their appointments but its seems that it not have ahigh effect ."
   ]
  },
  {
   "cell_type": "markdown",
   "metadata": {},
   "source": [
    "## Research Question 2 : Ages of people who book an appointment.\n",
    "\n",
    "#### Visualizations here show most age for reservation between 35 and 40 years old, and mean of these ages is 37"
   ]
  },
  {
   "cell_type": "code",
   "execution_count": 16,
   "metadata": {
    "scrolled": false
   },
   "outputs": [
    {
     "name": "stdout",
     "output_type": "stream",
     "text": [
      "37.08887421173107\n"
     ]
    },
    {
     "data": {
      "text/plain": [
       "Text(0, 0.5, 'Number of people')"
      ]
     },
     "execution_count": 16,
     "metadata": {},
     "output_type": "execute_result"
    },
    {
     "data": {
      "image/png": "[encoded data removed]",
      "text/plain": [
       "<Figure size 720x576 with 1 Axes>"
      ]
     },
     "metadata": {
      "needs_background": "light"
     },
     "output_type": "display_data"
    }
   ],
   "source": [
    "# Ages for all people who reserved an appointments\n",
    "print(df['Age'].mean())\n",
    "df['Age'].drop(df.loc[df['Age']==0].index).hist(figsize=(10, 8));\n",
    "plt.xlabel('Ages')\n",
    "plt.ylabel('Number of people')"
   ]
  },
  {
   "cell_type": "markdown",
   "metadata": {},
   "source": [
    "#### Most people attended their appointment are in range 50 years old, and mean of these ages is 38"
   ]
  },
  {
   "cell_type": "code",
   "execution_count": 17,
   "metadata": {
    "scrolled": true
   },
   "outputs": [
    {
     "name": "stdout",
     "output_type": "stream",
     "text": [
      "37.790064393252315\n"
     ]
    },
    {
     "data": {
      "text/plain": [
       "Text(0, 0.5, 'Number of people')"
      ]
     },
     "execution_count": 17,
     "metadata": {},
     "output_type": "execute_result"
    },
    {
     "data": {
      "image/png": "[encoded data removed]",
      "text/plain": [
       "<Figure size 720x576 with 1 Axes>"
      ]
     },
     "metadata": {
      "needs_background": "light"
     },
     "output_type": "display_data"
    }
   ],
   "source": [
    "# Ages for people who attended their reserved appointments\n",
    "print(df_show['Age'].mean())\n",
    "df_show['Age'].drop(df_show.loc[df_show['Age']==0].index).hist(figsize=(10, 8));\n",
    "plt.xlabel('Ages')\n",
    "plt.ylabel('Number of people')"
   ]
  },
  {
   "cell_type": "markdown",
   "metadata": {},
   "source": [
    "\n",
    "#### Most people absented their appointment are in range 50 years old, and mean of these ages is 30"
   ]
  },
  {
   "cell_type": "code",
   "execution_count": 18,
   "metadata": {},
   "outputs": [
    {
     "name": "stdout",
     "output_type": "stream",
     "text": [
      "34.31766656212196\n"
     ]
    },
    {
     "data": {
      "text/plain": [
       "Text(0, 0.5, 'Number of people')"
      ]
     },
     "execution_count": 18,
     "metadata": {},
     "output_type": "execute_result"
    },
    {
     "data": {
      "image/png": "[encoded data removed]",
      "text/plain": [
       "<Figure size 720x576 with 1 Axes>"
      ]
     },
     "metadata": {
      "needs_background": "light"
     },
     "output_type": "display_data"
    }
   ],
   "source": [
    "# Ages for people who didn't attend their reserved appointments\n",
    "print(df_noshow['Age'].mean())\n",
    "df_noshow['Age'].drop(df_noshow.loc[df_noshow['Age']==0].index).hist(figsize=(10, 8));\n",
    "plt.xlabel('Ages')\n",
    "plt.ylabel('Number of people')"
   ]
  },
  {
   "cell_type": "markdown",
   "metadata": {},
   "source": [
    "### people at age nearly 40 are the most in reserving appointments, And in age nearly 50 are the most in attending their appointments, And in age nearly 25 are the most in absenting their appointments ."
   ]
  },
  {
   "cell_type": "markdown",
   "metadata": {},
   "source": [
    "## Research Question 3 : Hospitals where appointments are reserved.\n",
    "\n",
    "#### Visualization here shows that there are prefered hosbitals for reservation like JARDIM CAMBURI(it's the most) and also for attended more than 6000 person attended and lower than 1500 person absented."
   ]
  },
  {
   "cell_type": "code",
   "execution_count": 19,
   "metadata": {
    "scrolled": true
   },
   "outputs": [
    {
     "data": {
      "text/plain": [
       "JARDIM CAMBURI                 7717\n",
       "MARIA ORTIZ                    5805\n",
       "RESISTÊNCIA                    4431\n",
       "JARDIM DA PENHA                3877\n",
       "ITARARÉ                        3514\n",
       "                               ... \n",
       "ILHA DO BOI                      35\n",
       "ILHA DO FRADE                    10\n",
       "AEROPORTO                         8\n",
       "ILHAS OCEÂNICAS DE TRINDADE       2\n",
       "PARQUE INDUSTRIAL                 1\n",
       "Name: Neighbourhood, Length: 81, dtype: int64"
      ]
     },
     "execution_count": 19,
     "metadata": {},
     "output_type": "execute_result"
    }
   ],
   "source": [
    "# Hospital reserved from highest to lowest \n",
    "df['Neighbourhood'].value_counts()"
   ]
  },
  {
   "cell_type": "markdown",
   "metadata": {},
   "source": [
    "#### Next Visualization shows the highest 15 hospitals of attendence"
   ]
  },
  {
   "cell_type": "code",
   "execution_count": 20,
   "metadata": {},
   "outputs": [
    {
     "data": {
      "text/plain": [
       "Text(0, 0.5, 'Number of people')"
      ]
     },
     "execution_count": 20,
     "metadata": {},
     "output_type": "execute_result"
    },
    {
     "data": {
      "image/png": "[encoded data removed]",
      "text/plain": [
       "<Figure size 1296x360 with 1 Axes>"
      ]
     },
     "metadata": {
      "needs_background": "light"
     },
     "output_type": "display_data"
    }
   ],
   "source": [
    "# Hospital reserved from highest to lowest in bar chart\n",
    "plt.subplots(figsize=(18,5))\n",
    "df['Neighbourhood'].value_counts().head(15).plot(kind='bar')\n",
    "plt.xlabel('Hospitals')\n",
    "plt.ylabel('Number of people')"
   ]
  },
  {
   "cell_type": "code",
   "execution_count": 21,
   "metadata": {},
   "outputs": [
    {
     "data": {
      "text/plain": [
       "JARDIM CAMBURI       6252\n",
       "MARIA ORTIZ          4586\n",
       "RESISTÊNCIA          3525\n",
       "JARDIM DA PENHA      3246\n",
       "SANTA MARTHA         2635\n",
       "                     ... \n",
       "PONTAL DE CAMBURI      57\n",
       "ILHA DO BOI            32\n",
       "ILHA DO FRADE           8\n",
       "AEROPORTO               7\n",
       "PARQUE INDUSTRIAL       1\n",
       "Name: Neighbourhood, Length: 80, dtype: int64"
      ]
     },
     "execution_count": 21,
     "metadata": {},
     "output_type": "execute_result"
    }
   ],
   "source": [
    "# Hospital reserved and number of attended people from highest to lowest\n",
    "df_show['Neighbourhood'].value_counts()"
   ]
  },
  {
   "cell_type": "code",
   "execution_count": 22,
   "metadata": {
    "scrolled": true
   },
   "outputs": [
    {
     "data": {
      "text/plain": [
       "Text(0, 0.5, 'Number of people')"
      ]
     },
     "execution_count": 22,
     "metadata": {},
     "output_type": "execute_result"
    },
    {
     "data": {
      "image/png": "[encoded data removed]",
      "text/plain": [
       "<Figure size 1296x360 with 1 Axes>"
      ]
     },
     "metadata": {
      "needs_background": "light"
     },
     "output_type": "display_data"
    }
   ],
   "source": [
    "# Hospital reserved and number of attended people from highest to lowest in bar chart\n",
    "plt.subplots(figsize=(18,5))\n",
    "df_show['Neighbourhood'].value_counts().head(15).plot(kind='bar')\n",
    "plt.xlabel('Hospitals')\n",
    "plt.ylabel('Number of people')"
   ]
  },
  {
   "cell_type": "code",
   "execution_count": 23,
   "metadata": {},
   "outputs": [
    {
     "data": {
      "text/plain": [
       "JARDIM CAMBURI                 1465\n",
       "MARIA ORTIZ                    1219\n",
       "ITARARÉ                         923\n",
       "RESISTÊNCIA                     906\n",
       "CENTRO                          703\n",
       "                               ... \n",
       "PONTAL DE CAMBURI                12\n",
       "ILHA DO BOI                       3\n",
       "ILHA DO FRADE                     2\n",
       "ILHAS OCEÂNICAS DE TRINDADE       2\n",
       "AEROPORTO                         1\n",
       "Name: Neighbourhood, Length: 80, dtype: int64"
      ]
     },
     "execution_count": 23,
     "metadata": {},
     "output_type": "execute_result"
    }
   ],
   "source": [
    "# Hospital reserved and number of absented people from highest to lowest\n",
    "df_noshow['Neighbourhood'].value_counts()"
   ]
  },
  {
   "cell_type": "markdown",
   "metadata": {},
   "source": [
    "#### Next Visualization shows the highest 15 hospitals of absetence"
   ]
  },
  {
   "cell_type": "code",
   "execution_count": 24,
   "metadata": {
    "scrolled": false
   },
   "outputs": [
    {
     "data": {
      "text/plain": [
       "Text(0, 0.5, 'Number of people')"
      ]
     },
     "execution_count": 24,
     "metadata": {},
     "output_type": "execute_result"
    },
    {
     "data": {
      "image/png": "[encoded data removed]",
      "text/plain": [
       "<Figure size 1296x360 with 1 Axes>"
      ]
     },
     "metadata": {
      "needs_background": "light"
     },
     "output_type": "display_data"
    }
   ],
   "source": [
    "# Hospital reserved and number of absented people from highest to lowest in bar chart\n",
    "plt.subplots(figsize=(18,5))\n",
    "df_noshow['Neighbourhood'].value_counts().head(15).plot(kind='bar')\n",
    "plt.xlabel('Hospitals')\n",
    "plt.ylabel('Number of people')"
   ]
  },
  {
   "cell_type": "markdown",
   "metadata": {},
   "source": [
    "#### This visuliaztion shows how is the diference in each hospital between attending and absenting for reserved appointment ."
   ]
  },
  {
   "cell_type": "markdown",
   "metadata": {},
   "source": [
    "## Research Question 4 : The gender of people who book appointments.\n",
    "#### Visulization shows that most people reserved attended at their appointment and females were the most interest in reserving appointment."
   ]
  },
  {
   "cell_type": "code",
   "execution_count": 26,
   "metadata": {},
   "outputs": [
    {
     "data": {
      "text/plain": [
       "Text(0, 0.5, 'Number of people')"
      ]
     },
     "execution_count": 26,
     "metadata": {},
     "output_type": "execute_result"
    },
    {
     "data": {
      "image/png": "[encoded data removed]",
      "text/plain": [
       "<Figure size 432x288 with 1 Axes>"
      ]
     },
     "metadata": {
      "needs_background": "light"
     },
     "output_type": "display_data"
    }
   ],
   "source": [
    "# Bar chart shows the number of people who attended and didn't attend\n",
    "df['No_show'].value_counts().plot.bar()\n",
    "plt.xlabel('No Show Appointment')\n",
    "plt.ylabel('Number of people')"
   ]
  },
  {
   "cell_type": "markdown",
   "metadata": {},
   "source": [
    "### Most who reserved attended in their appointments"
   ]
  },
  {
   "cell_type": "code",
   "execution_count": 27,
   "metadata": {
    "scrolled": true
   },
   "outputs": [
    {
     "data": {
      "text/plain": [
       "F    71840\n",
       "Name: Gender, dtype: int64"
      ]
     },
     "execution_count": 27,
     "metadata": {},
     "output_type": "execute_result"
    }
   ],
   "source": [
    "df[df['Gender']=='F']['Gender'].value_counts()"
   ]
  },
  {
   "cell_type": "code",
   "execution_count": 28,
   "metadata": {},
   "outputs": [
    {
     "data": {
      "text/plain": [
       "F    57246\n",
       "Name: Gender, dtype: int64"
      ]
     },
     "execution_count": 28,
     "metadata": {},
     "output_type": "execute_result"
    }
   ],
   "source": [
    "df_show[df_show['Gender']=='F']['Gender'].value_counts()"
   ]
  },
  {
   "cell_type": "code",
   "execution_count": 29,
   "metadata": {
    "scrolled": true
   },
   "outputs": [
    {
     "data": {
      "text/plain": [
       "M    30962\n",
       "Name: Gender, dtype: int64"
      ]
     },
     "execution_count": 29,
     "metadata": {},
     "output_type": "execute_result"
    }
   ],
   "source": [
    "df_show[df_show['Gender']=='M']['Gender'].value_counts()"
   ]
  },
  {
   "cell_type": "code",
   "execution_count": 30,
   "metadata": {},
   "outputs": [
    {
     "data": {
      "text/plain": [
       "F    14594\n",
       "Name: Gender, dtype: int64"
      ]
     },
     "execution_count": 30,
     "metadata": {},
     "output_type": "execute_result"
    }
   ],
   "source": [
    "df_noshow[df_noshow['Gender']=='F']['Gender'].value_counts()"
   ]
  },
  {
   "cell_type": "code",
   "execution_count": 31,
   "metadata": {},
   "outputs": [
    {
     "data": {
      "text/plain": [
       "M    7725\n",
       "Name: Gender, dtype: int64"
      ]
     },
     "execution_count": 31,
     "metadata": {},
     "output_type": "execute_result"
    }
   ],
   "source": [
    "df_noshow[df_noshow['Gender']=='M']['Gender'].value_counts()"
   ]
  },
  {
   "cell_type": "markdown",
   "metadata": {},
   "source": [
    "### Females are the most of people reserve and the most of attendance and absence"
   ]
  },
  {
   "cell_type": "markdown",
   "metadata": {},
   "source": [
    "#### Visualization here shows that more than 55000 Females attend and less than 15000 absence"
   ]
  },
  {
   "cell_type": "code",
   "execution_count": 32,
   "metadata": {
    "scrolled": true
   },
   "outputs": [
    {
     "data": {
      "text/plain": [
       "Text(0, 0.5, 'Number of people')"
      ]
     },
     "execution_count": 32,
     "metadata": {},
     "output_type": "execute_result"
    },
    {
     "data": {
      "image/png": "[encoded data removed]",
      "text/plain": [
       "<Figure size 432x288 with 1 Axes>"
      ]
     },
     "metadata": {
      "needs_background": "light"
     },
     "output_type": "display_data"
    }
   ],
   "source": [
    "# Bar chart shows the number of Females who attended and didn't attend\n",
    "df[df['Gender']=='F']['No_show'].value_counts().plot.bar()\n",
    "plt.xlabel('No Show Appointment')\n",
    "plt.ylabel('Number of people')"
   ]
  },
  {
   "cell_type": "markdown",
   "metadata": {},
   "source": [
    "#### Visualization here shows that more than 30000 Males attend and less than 8000 absence"
   ]
  },
  {
   "cell_type": "code",
   "execution_count": 33,
   "metadata": {
    "scrolled": false
   },
   "outputs": [
    {
     "data": {
      "text/plain": [
       "Text(0, 0.5, 'Number of people')"
      ]
     },
     "execution_count": 33,
     "metadata": {},
     "output_type": "execute_result"
    },
    {
     "data": {
      "image/png": "[encoded data removed]",
      "text/plain": [
       "<Figure size 432x288 with 1 Axes>"
      ]
     },
     "metadata": {
      "needs_background": "light"
     },
     "output_type": "display_data"
    }
   ],
   "source": [
    "# Bar chart shows the number of Males who attended and didn't attend\n",
    "df[df['Gender']=='M']['No_show'].value_counts().plot.bar()\n",
    "plt.xlabel('No Show Appointment')\n",
    "plt.ylabel('Number of people')"
   ]
  },
  {
   "cell_type": "markdown",
   "metadata": {},
   "source": [
    "### It's abvoius that females who reserved and attended their appointment are more than females and also in absence ."
   ]
  },
  {
   "cell_type": "markdown",
   "metadata": {},
   "source": [
    "## Research Question 5 : Days between appointment and schedule time.\n",
    "\n",
    "#### Visulizations here shows the difference of days between the day of reservation and the day of examination and how it effect in attending and most people prefer to reserve in the same day and big percentage of them attend in their appointments but also they the most who didn't attend but it seems little proprtion."
   ]
  },
  {
   "cell_type": "code",
   "execution_count": 34,
   "metadata": {},
   "outputs": [
    {
     "data": {
      "text/plain": [
       "Text(0, 0.5, 'Number of people')"
      ]
     },
     "execution_count": 34,
     "metadata": {},
     "output_type": "execute_result"
    },
    {
     "data": {
      "image/png": "[encoded data removed]",
      "text/plain": [
       "<Figure size 432x288 with 1 Axes>"
      ]
     },
     "metadata": {
      "needs_background": "light"
     },
     "output_type": "display_data"
    }
   ],
   "source": [
    "# Bar chart show the difference of days between the day of reservation and the day of examination\n",
    "df['WaitingDays'].value_counts().head(10).plot.bar()\n",
    "plt.xlabel('Days between reservation day and appiontment day')\n",
    "plt.ylabel('Number of people')"
   ]
  },
  {
   "cell_type": "markdown",
   "metadata": {},
   "source": [
    "### Most people reseve appointment in the same day"
   ]
  },
  {
   "cell_type": "code",
   "execution_count": 35,
   "metadata": {},
   "outputs": [
    {
     "data": {
      "text/plain": [
       "Text(0, 0.5, 'Number of people')"
      ]
     },
     "execution_count": 35,
     "metadata": {},
     "output_type": "execute_result"
    },
    {
     "data": {
      "image/png": "[encoded data removed]",
      "text/plain": [
       "<Figure size 432x288 with 1 Axes>"
      ]
     },
     "metadata": {
      "needs_background": "light"
     },
     "output_type": "display_data"
    }
   ],
   "source": [
    "# Bar chart show the difference of days between the day of reservation and the day of examination for people attended at their appointment\n",
    "df_show['WaitingDays'].value_counts().head(10).plot.bar()\n",
    "plt.xlabel('Days between reservation day and appiontment day')\n",
    "plt.ylabel('Number of people')"
   ]
  },
  {
   "cell_type": "markdown",
   "metadata": {},
   "source": [
    "### it's prefered to attend when reservation day is the same for appointment"
   ]
  },
  {
   "cell_type": "code",
   "execution_count": 36,
   "metadata": {
    "scrolled": true
   },
   "outputs": [
    {
     "data": {
      "text/plain": [
       "Text(0, 0.5, 'Number of people')"
      ]
     },
     "execution_count": 36,
     "metadata": {},
     "output_type": "execute_result"
    },
    {
     "data": {
      "image/png": "[encoded data removed]",
      "text/plain": [
       "<Figure size 432x288 with 1 Axes>"
      ]
     },
     "metadata": {
      "needs_background": "light"
     },
     "output_type": "display_data"
    }
   ],
   "source": [
    "# Bar chart show the difference of days between the day of reservation and the day of examination for people didn't attend at their appointment\n",
    "df_noshow['WaitingDays'].value_counts().head(10).plot.bar()\n",
    "plt.xlabel('Days between reservation day and appiontment day')\n",
    "plt.ylabel('Number of people')"
   ]
  },
  {
   "cell_type": "markdown",
   "metadata": {},
   "source": [
    "### it's prefered to attend when reservation day is the same for appointment but also it have the high portion in absented but its because there are many people reserve in this case so as a proportion other cases are higher in absenting"
   ]
  },
  {
   "cell_type": "markdown",
   "metadata": {},
   "source": [
    "## Research Question 6 : The influence of factors such as (Scholarship, SMS_received, Diabetes) on time attendance.\n",
    "\n",
    "#### Visualizations here shows the percentage of people who received an SMS and didn't attend when compared to people who received an SMS and did not is high .\n",
    "#### Visualizations here Explains that people enrolled in the scholarship program don't seem to increase the likelihood that people will show up for the appointment ,, and also diabetes are the same ."
   ]
  },
  {
   "cell_type": "code",
   "execution_count": 37,
   "metadata": {
    "scrolled": true
   },
   "outputs": [
    {
     "data": {
      "text/plain": [
       "Text(0.5, 0, 'The ratio between recipients and non-recipients of a message')"
      ]
     },
     "execution_count": 37,
     "metadata": {},
     "output_type": "execute_result"
    },
    {
     "data": {
      "image/png": "[encoded data removed]",
      "text/plain": [
       "<Figure size 432x288 with 1 Axes>"
      ]
     },
     "metadata": {},
     "output_type": "display_data"
    }
   ],
   "source": [
    "df['SMS_received'].value_counts().plot(kind='pie')\n",
    "plt.xlabel('The ratio between recipients and non-recipients of a message')"
   ]
  },
  {
   "cell_type": "markdown",
   "metadata": {},
   "source": [
    "#### it's abvoius that most of people attend didn't receive SMS"
   ]
  },
  {
   "cell_type": "code",
   "execution_count": 38,
   "metadata": {
    "scrolled": true
   },
   "outputs": [
    {
     "data": {
      "text/plain": [
       "Text(0.5, 0, 'The ratio between recipients and non-recipients of a message for show')"
      ]
     },
     "execution_count": 38,
     "metadata": {},
     "output_type": "execute_result"
    },
    {
     "data": {
      "image/png": "[encoded data removed]",
      "text/plain": [
       "<Figure size 432x288 with 1 Axes>"
      ]
     },
     "metadata": {},
     "output_type": "display_data"
    }
   ],
   "source": [
    "df_show['SMS_received'].value_counts().plot(kind='pie')\n",
    "plt.xlabel('The ratio between recipients and non-recipients of a message for show')"
   ]
  },
  {
   "cell_type": "markdown",
   "metadata": {},
   "source": [
    "#### it's abvoius that most of people absent didn't receive SMS"
   ]
  },
  {
   "cell_type": "code",
   "execution_count": 39,
   "metadata": {
    "scrolled": true
   },
   "outputs": [
    {
     "data": {
      "text/plain": [
       "Text(0.5, 0, 'The ratio between recipients and non-recipients of a message for non show')"
      ]
     },
     "execution_count": 39,
     "metadata": {},
     "output_type": "execute_result"
    },
    {
     "data": {
      "image/png": "[encoded data removed]",
      "text/plain": [
       "<Figure size 432x288 with 1 Axes>"
      ]
     },
     "metadata": {},
     "output_type": "display_data"
    }
   ],
   "source": [
    "df_noshow['SMS_received'].value_counts().plot(kind='pie')\n",
    "plt.xlabel('The ratio between recipients and non-recipients of a message for non show')"
   ]
  },
  {
   "cell_type": "markdown",
   "metadata": {},
   "source": [
    "#### Number of people who has scholarship nearly 100000 and less than 12000 who didn't have"
   ]
  },
  {
   "cell_type": "code",
   "execution_count": 40,
   "metadata": {
    "scrolled": false
   },
   "outputs": [
    {
     "data": {
      "text/plain": [
       "Text(0, 0.5, 'Number of people')"
      ]
     },
     "execution_count": 40,
     "metadata": {},
     "output_type": "execute_result"
    },
    {
     "data": {
      "image/png": "[encoded data removed]",
      "text/plain": [
       "<Figure size 432x288 with 1 Axes>"
      ]
     },
     "metadata": {
      "needs_background": "light"
     },
     "output_type": "display_data"
    }
   ],
   "source": [
    "df['Scholarship'].value_counts().plot(kind='bar')\n",
    "plt.xlabel('Scholarship')\n",
    "plt.ylabel('Number of people')"
   ]
  },
  {
   "cell_type": "markdown",
   "metadata": {},
   "source": [
    "#### Number of people who has scholarship and attended nearly 80000 and less than 9000 who didn't have"
   ]
  },
  {
   "cell_type": "code",
   "execution_count": 41,
   "metadata": {
    "scrolled": false
   },
   "outputs": [
    {
     "data": {
      "text/plain": [
       "Text(0, 0.5, 'Number of people')"
      ]
     },
     "execution_count": 41,
     "metadata": {},
     "output_type": "execute_result"
    },
    {
     "data": {
      "image/png": "[encoded data removed]",
      "text/plain": [
       "<Figure size 432x288 with 1 Axes>"
      ]
     },
     "metadata": {
      "needs_background": "light"
     },
     "output_type": "display_data"
    }
   ],
   "source": [
    "df_show['Scholarship'].value_counts().plot(kind='bar')\n",
    "plt.xlabel('Scholarship')\n",
    "plt.ylabel('Number of people')"
   ]
  },
  {
   "cell_type": "markdown",
   "metadata": {},
   "source": [
    "#### Number of people who has scholarship and didn't attend nearly 19000 and less than 2500 who didn't have"
   ]
  },
  {
   "cell_type": "code",
   "execution_count": 42,
   "metadata": {
    "scrolled": false
   },
   "outputs": [
    {
     "data": {
      "text/plain": [
       "Text(0, 0.5, 'Number of people')"
      ]
     },
     "execution_count": 42,
     "metadata": {},
     "output_type": "execute_result"
    },
    {
     "data": {
      "image/png": "[encoded data removed]",
      "text/plain": [
       "<Figure size 432x288 with 1 Axes>"
      ]
     },
     "metadata": {
      "needs_background": "light"
     },
     "output_type": "display_data"
    }
   ],
   "source": [
    "df_noshow['Scholarship'].value_counts().plot(kind='bar')\n",
    "plt.xlabel('Scholarship')\n",
    "plt.ylabel('Number of people')"
   ]
  },
  {
   "cell_type": "markdown",
   "metadata": {},
   "source": [
    "#### Visualization shows that most people reserve have diabetes"
   ]
  },
  {
   "cell_type": "code",
   "execution_count": 43,
   "metadata": {},
   "outputs": [
    {
     "data": {
      "text/plain": [
       "Text(0, 0.5, 'Number of people')"
      ]
     },
     "execution_count": 43,
     "metadata": {},
     "output_type": "execute_result"
    },
    {
     "data": {
      "image/png": "[encoded data removed]",
      "text/plain": [
       "<Figure size 432x288 with 1 Axes>"
      ]
     },
     "metadata": {
      "needs_background": "light"
     },
     "output_type": "display_data"
    }
   ],
   "source": [
    "df['Diabetes'].value_counts().plot(kind='bar');\n",
    "plt.xlabel('Diabetes')\n",
    "plt.ylabel('Number of people')"
   ]
  },
  {
   "cell_type": "markdown",
   "metadata": {},
   "source": [
    "#### Diabetes Realtionship bar betwwn eho ettend and absent"
   ]
  },
  {
   "cell_type": "code",
   "execution_count": 44,
   "metadata": {
    "scrolled": false
   },
   "outputs": [
    {
     "data": {
      "text/plain": [
       "Text(0, 0.5, 'Number of people')"
      ]
     },
     "execution_count": 44,
     "metadata": {},
     "output_type": "execute_result"
    },
    {
     "data": {
      "image/png": "[encoded data removed]",
      "text/plain": [
       "<Figure size 432x288 with 1 Axes>"
      ]
     },
     "metadata": {
      "needs_background": "light"
     },
     "output_type": "display_data"
    }
   ],
   "source": [
    "plt.hist(df_show.Diabetes, facecolor='b',alpha=1, label='Attend')\n",
    "plt.hist(df_noshow.Diabetes, facecolor='g',alpha=1, label='Absent')\n",
    "plt.legend()\n",
    "plt.xlabel('Diabetes')\n",
    "plt.ylabel('Number of people')"
   ]
  },
  {
   "cell_type": "markdown",
   "metadata": {},
   "source": [
    "### Of course characteristics like SMS_received, diabetesand Scholarship make some people attend and may in future have high effect in making people attend in their appointments but its seems that it not have ahigh effect ."
   ]
  },
  {
   "cell_type": "markdown",
   "metadata": {},
   "source": [
    "<a id='conclusions'></a>\n",
    "## Conclusions\n",
    "\n",
    "### My Analysis show that :\n",
    "\n",
    "Totaly therer is no limitations just some samples have age of 0 that's not accepted but i handled it.\n",
    "\n",
    "Characteristics for people who reserved, attended and absented their  appointments.\n",
    "\n",
    "Most People reserve appointment are between 35 and 40 years old, who attend are also between 35 and 40 years old, who attend are between 30 and 35 years old.\n",
    "\n",
    "There are prefered hosbitals for reservation like JARDIM CAMBURI(it's the most) and also for attended more than 6000 person attended and lower than 1500 person absented.\n",
    "\n",
    "Shows that most people reserve attend at their appointment and females are the most interest in reserving appointment.\n",
    "\n",
    "Shows the difference of days between the day of reservation and the day of examination and how it effect in attending and most people prefer to reserve in the same day and also they the most who didn't attend but it seems little proprtion.\n",
    "\n",
    "Shows the percentage of people who received an SMS and didn't attend when compared to people who received an SMS and did not is high .\n",
    "\n",
    "Explains that people enrolled in the scholarship program don't seem to increase the likelihood that people will show up for the appointment."
   ]
  },
  {
   "cell_type": "code",
   "execution_count": 45,
   "metadata": {},
   "outputs": [],
   "source": [
    "df.to_csv('No_show_appointment_edited.csv',index=False)"
   ]
  }
 ],
 "metadata": {
  "kernelspec": {
   "display_name": "Python 3",
   "language": "python",
   "name": "python3"
  },
  "language_info": {
   "codemirror_mode": {
    "name": "ipython",
    "version": 3
   },
   "file_extension": ".py",
   "mimetype": "text/x-python",
   "name": "python",
   "nbconvert_exporter": "python",
   "pygments_lexer": "ipython3",
   "version": "3.8.3"
  }
 },
 "nbformat": 4,
 "nbformat_minor": 2
}
