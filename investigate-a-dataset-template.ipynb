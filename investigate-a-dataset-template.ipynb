{
 "cells": [
  {
   "cell_type": "markdown",
   "metadata": {},
   "source": [
    "> **Tip**: Welcome to the Investigate a Dataset project! You will find tips in quoted sections like this to help organize your approach to your investigation. Before submitting your project, it will be a good idea to go back through your report and remove these sections to make the presentation of your work as tidy as possible. First things first, you might want to double-click this Markdown cell and change the title so that it reflects your dataset and investigation.\n",
    "\n",
    "# Project: No-Show Appointment\n",
    "\n",
    "## Table of Contents\n",
    "<ul>\n",
    "<li><a href=\"#intro\">Introduction</a></li>\n",
    "<li><a href=\"#wrangling\">Data Wrangling</a></li>\n",
    "<li><a href=\"#eda\">Exploratory Data Analysis</a></li>\n",
    "<li><a href=\"#conclusions\">Conclusions</a></li>\n",
    "</ul>"
   ]
  },
  {
   "cell_type": "markdown",
   "metadata": {},
   "source": [
    "<a id='intro'></a>\n",
    "## Introduction\n",
    "A person makes a doctor appointment, receives all the instructions and no-show. \n",
    "We want to know :-\n",
    "\n",
    "Are no-show appointments associated with a certain gender?\n",
    "\n",
    "What are the most hospitals where appointments are reserved, and which one is more present for their appointments?\n",
    "\n",
    "Do SMS reminders decrease the number of absences?\n",
    "\n",
    "Is the period between scheduled day and appointment day affecting the number of no-show appointments?\n",
    "\n",
    "Do Scholarship reminders increase the number of absences?"
   ]
  },
  {
   "cell_type": "code",
   "execution_count": 2,
   "metadata": {},
   "outputs": [],
   "source": [
    "# import statements for all of the packages that i plan to use.\n",
    "\n",
    "import pandas as pd\n",
    "import matplotlib.pyplot as plt\n",
    "import seaborn as sns\n",
    "#% matplotlib inline"
   ]
  },
  {
   "cell_type": "markdown",
   "metadata": {},
   "source": [
    "<a id='wrangling'></a>\n",
    "## Data Wrangling\n",
    "\n",
    "> **Tip**: In this section of the report, you will load in the data, check for cleanliness, and then trim and clean your dataset for analysis. Make sure that you document your steps carefully and justify your cleaning decisions.\n",
    "\n",
    "### General Properties"
   ]
  },
  {
   "cell_type": "code",
   "execution_count": 3,
   "metadata": {},
   "outputs": [
    {
     "data": {
      "text/html": [
       "<div>\n",
       "<style scoped>\n",
       "    .dataframe tbody tr th:only-of-type {\n",
       "        vertical-align: middle;\n",
       "    }\n",
       "\n",
       "    .dataframe tbody tr th {\n",
       "        vertical-align: top;\n",
       "    }\n",
       "\n",
       "    .dataframe thead th {\n",
       "        text-align: right;\n",
       "    }\n",
       "</style>\n",
       "<table border=\"1\" class=\"dataframe\">\n",
       "  <thead>\n",
       "    <tr style=\"text-align: right;\">\n",
       "      <th></th>\n",
       "      <th>PatientId</th>\n",
       "      <th>AppointmentID</th>\n",
       "      <th>Gender</th>\n",
       "      <th>ScheduledDay</th>\n",
       "      <th>AppointmentDay</th>\n",
       "      <th>Age</th>\n",
       "      <th>Neighbourhood</th>\n",
       "      <th>Scholarship</th>\n",
       "      <th>Hipertension</th>\n",
       "      <th>Diabetes</th>\n",
       "      <th>Alcoholism</th>\n",
       "      <th>Handcap</th>\n",
       "      <th>SMS_received</th>\n",
       "      <th>No-show</th>\n",
       "    </tr>\n",
       "  </thead>\n",
       "  <tbody>\n",
       "    <tr>\n",
       "      <th>0</th>\n",
       "      <td>2.987250e+13</td>\n",
       "      <td>5642903</td>\n",
       "      <td>F</td>\n",
       "      <td>2016-04-29T18:38:08Z</td>\n",
       "      <td>2016-04-29T00:00:00Z</td>\n",
       "      <td>62</td>\n",
       "      <td>JARDIM DA PENHA</td>\n",
       "      <td>0</td>\n",
       "      <td>1</td>\n",
       "      <td>0</td>\n",
       "      <td>0</td>\n",
       "      <td>0</td>\n",
       "      <td>0</td>\n",
       "      <td>No</td>\n",
       "    </tr>\n",
       "    <tr>\n",
       "      <th>1</th>\n",
       "      <td>5.589978e+14</td>\n",
       "      <td>5642503</td>\n",
       "      <td>M</td>\n",
       "      <td>2016-04-29T16:08:27Z</td>\n",
       "      <td>2016-04-29T00:00:00Z</td>\n",
       "      <td>56</td>\n",
       "      <td>JARDIM DA PENHA</td>\n",
       "      <td>0</td>\n",
       "      <td>0</td>\n",
       "      <td>0</td>\n",
       "      <td>0</td>\n",
       "      <td>0</td>\n",
       "      <td>0</td>\n",
       "      <td>No</td>\n",
       "    </tr>\n",
       "    <tr>\n",
       "      <th>2</th>\n",
       "      <td>4.262962e+12</td>\n",
       "      <td>5642549</td>\n",
       "      <td>F</td>\n",
       "      <td>2016-04-29T16:19:04Z</td>\n",
       "      <td>2016-04-29T00:00:00Z</td>\n",
       "      <td>62</td>\n",
       "      <td>MATA DA PRAIA</td>\n",
       "      <td>0</td>\n",
       "      <td>0</td>\n",
       "      <td>0</td>\n",
       "      <td>0</td>\n",
       "      <td>0</td>\n",
       "      <td>0</td>\n",
       "      <td>No</td>\n",
       "    </tr>\n",
       "    <tr>\n",
       "      <th>3</th>\n",
       "      <td>8.679512e+11</td>\n",
       "      <td>5642828</td>\n",
       "      <td>F</td>\n",
       "      <td>2016-04-29T17:29:31Z</td>\n",
       "      <td>2016-04-29T00:00:00Z</td>\n",
       "      <td>8</td>\n",
       "      <td>PONTAL DE CAMBURI</td>\n",
       "      <td>0</td>\n",
       "      <td>0</td>\n",
       "      <td>0</td>\n",
       "      <td>0</td>\n",
       "      <td>0</td>\n",
       "      <td>0</td>\n",
       "      <td>No</td>\n",
       "    </tr>\n",
       "    <tr>\n",
       "      <th>4</th>\n",
       "      <td>8.841186e+12</td>\n",
       "      <td>5642494</td>\n",
       "      <td>F</td>\n",
       "      <td>2016-04-29T16:07:23Z</td>\n",
       "      <td>2016-04-29T00:00:00Z</td>\n",
       "      <td>56</td>\n",
       "      <td>JARDIM DA PENHA</td>\n",
       "      <td>0</td>\n",
       "      <td>1</td>\n",
       "      <td>1</td>\n",
       "      <td>0</td>\n",
       "      <td>0</td>\n",
       "      <td>0</td>\n",
       "      <td>No</td>\n",
       "    </tr>\n",
       "  </tbody>\n",
       "</table>\n",
       "</div>"
      ],
      "text/plain": [
       "      PatientId  AppointmentID Gender          ScheduledDay  \\\n",
       "0  2.987250e+13        5642903      F  2016-04-29T18:38:08Z   \n",
       "1  5.589978e+14        5642503      M  2016-04-29T16:08:27Z   \n",
       "2  4.262962e+12        5642549      F  2016-04-29T16:19:04Z   \n",
       "3  8.679512e+11        5642828      F  2016-04-29T17:29:31Z   \n",
       "4  8.841186e+12        5642494      F  2016-04-29T16:07:23Z   \n",
       "\n",
       "         AppointmentDay  Age      Neighbourhood  Scholarship  Hipertension  \\\n",
       "0  2016-04-29T00:00:00Z   62    JARDIM DA PENHA            0             1   \n",
       "1  2016-04-29T00:00:00Z   56    JARDIM DA PENHA            0             0   \n",
       "2  2016-04-29T00:00:00Z   62      MATA DA PRAIA            0             0   \n",
       "3  2016-04-29T00:00:00Z    8  PONTAL DE CAMBURI            0             0   \n",
       "4  2016-04-29T00:00:00Z   56    JARDIM DA PENHA            0             1   \n",
       "\n",
       "   Diabetes  Alcoholism  Handcap  SMS_received No-show  \n",
       "0         0           0        0             0      No  \n",
       "1         0           0        0             0      No  \n",
       "2         0           0        0             0      No  \n",
       "3         0           0        0             0      No  \n",
       "4         1           0        0             0      No  "
      ]
     },
     "execution_count": 3,
     "metadata": {},
     "output_type": "execute_result"
    }
   ],
   "source": [
    "# Loading my data and print out a few lines.\n",
    "df = pd.read_csv('No-show_appointment.csv')\n",
    "df.head()"
   ]
  },
  {
   "cell_type": "code",
   "execution_count": 4,
   "metadata": {},
   "outputs": [
    {
     "data": {
      "text/plain": [
       "(110527, 14)"
      ]
     },
     "execution_count": 4,
     "metadata": {},
     "output_type": "execute_result"
    }
   ],
   "source": [
    "# Perform operations to inspect data\n",
    "df.shape"
   ]
  },
  {
   "cell_type": "code",
   "execution_count": 5,
   "metadata": {},
   "outputs": [
    {
     "name": "stdout",
     "output_type": "stream",
     "text": [
      "<class 'pandas.core.frame.DataFrame'>\n",
      "RangeIndex: 110527 entries, 0 to 110526\n",
      "Data columns (total 14 columns):\n",
      " #   Column          Non-Null Count   Dtype  \n",
      "---  ------          --------------   -----  \n",
      " 0   PatientId       110527 non-null  float64\n",
      " 1   AppointmentID   110527 non-null  int64  \n",
      " 2   Gender          110527 non-null  object \n",
      " 3   ScheduledDay    110527 non-null  object \n",
      " 4   AppointmentDay  110527 non-null  object \n",
      " 5   Age             110527 non-null  int64  \n",
      " 6   Neighbourhood   110527 non-null  object \n",
      " 7   Scholarship     110527 non-null  int64  \n",
      " 8   Hipertension    110527 non-null  int64  \n",
      " 9   Diabetes        110527 non-null  int64  \n",
      " 10  Alcoholism      110527 non-null  int64  \n",
      " 11  Handcap         110527 non-null  int64  \n",
      " 12  SMS_received    110527 non-null  int64  \n",
      " 13  No-show         110527 non-null  object \n",
      "dtypes: float64(1), int64(8), object(5)\n",
      "memory usage: 11.8+ MB\n"
     ]
    }
   ],
   "source": [
    "df.info()"
   ]
  },
  {
   "cell_type": "code",
   "execution_count": 6,
   "metadata": {},
   "outputs": [],
   "source": [
    "# Create function to Convert data type for ScheduledDay \n",
    "# and AppointmentDay columns from odject to date\n",
    "\n",
    "def Convert_date(date):\n",
    "    return  pd.to_datetime(date, format='%d%b%Y', infer_datetime_format=True).dt.date\n",
    "\n",
    "df['ScheduledDay'] = Convert_date(df['ScheduledDay'])\n",
    "df['AppointmentDay']  = Convert_date(df['AppointmentDay'])"
   ]
  },
  {
   "cell_type": "markdown",
   "metadata": {},
   "source": [
    "### Data Cleaning : Convert datatypes ,, Rename columns ,, Drop columns ,, Drop ages with 0 years old"
   ]
  },
  {
   "cell_type": "code",
   "execution_count": 7,
   "metadata": {},
   "outputs": [],
   "source": [
    "#Convert data type for ScheduledDay and AppointmentDay columns from odject to date\n",
    "df['ScheduledDay'] =  pd.to_datetime(df['ScheduledDay'], format='%d%b%Y', infer_datetime_format=True).dt.date\n",
    "df['AppointmentDay'] =  pd.to_datetime(df['AppointmentDay'], format='%d%b%Y', infer_datetime_format=True).dt.date"
   ]
  },
  {
   "cell_type": "code",
   "execution_count": 8,
   "metadata": {
    "scrolled": true
   },
   "outputs": [
    {
     "data": {
      "text/html": [
       "<div>\n",
       "<style scoped>\n",
       "    .dataframe tbody tr th:only-of-type {\n",
       "        vertical-align: middle;\n",
       "    }\n",
       "\n",
       "    .dataframe tbody tr th {\n",
       "        vertical-align: top;\n",
       "    }\n",
       "\n",
       "    .dataframe thead th {\n",
       "        text-align: right;\n",
       "    }\n",
       "</style>\n",
       "<table border=\"1\" class=\"dataframe\">\n",
       "  <thead>\n",
       "    <tr style=\"text-align: right;\">\n",
       "      <th></th>\n",
       "      <th>PatientId</th>\n",
       "      <th>AppointmentID</th>\n",
       "      <th>Gender</th>\n",
       "      <th>ScheduledDay</th>\n",
       "      <th>AppointmentDay</th>\n",
       "      <th>Age</th>\n",
       "      <th>Neighbourhood</th>\n",
       "      <th>Scholarship</th>\n",
       "      <th>Hipertension</th>\n",
       "      <th>Diabetes</th>\n",
       "      <th>Alcoholism</th>\n",
       "      <th>Handcap</th>\n",
       "      <th>SMS_received</th>\n",
       "      <th>No-show</th>\n",
       "    </tr>\n",
       "  </thead>\n",
       "  <tbody>\n",
       "    <tr>\n",
       "      <th>0</th>\n",
       "      <td>2.987250e+13</td>\n",
       "      <td>5642903</td>\n",
       "      <td>F</td>\n",
       "      <td>2016-04-29</td>\n",
       "      <td>2016-04-29</td>\n",
       "      <td>62</td>\n",
       "      <td>JARDIM DA PENHA</td>\n",
       "      <td>0</td>\n",
       "      <td>1</td>\n",
       "      <td>0</td>\n",
       "      <td>0</td>\n",
       "      <td>0</td>\n",
       "      <td>0</td>\n",
       "      <td>No</td>\n",
       "    </tr>\n",
       "    <tr>\n",
       "      <th>1</th>\n",
       "      <td>5.589978e+14</td>\n",
       "      <td>5642503</td>\n",
       "      <td>M</td>\n",
       "      <td>2016-04-29</td>\n",
       "      <td>2016-04-29</td>\n",
       "      <td>56</td>\n",
       "      <td>JARDIM DA PENHA</td>\n",
       "      <td>0</td>\n",
       "      <td>0</td>\n",
       "      <td>0</td>\n",
       "      <td>0</td>\n",
       "      <td>0</td>\n",
       "      <td>0</td>\n",
       "      <td>No</td>\n",
       "    </tr>\n",
       "    <tr>\n",
       "      <th>2</th>\n",
       "      <td>4.262962e+12</td>\n",
       "      <td>5642549</td>\n",
       "      <td>F</td>\n",
       "      <td>2016-04-29</td>\n",
       "      <td>2016-04-29</td>\n",
       "      <td>62</td>\n",
       "      <td>MATA DA PRAIA</td>\n",
       "      <td>0</td>\n",
       "      <td>0</td>\n",
       "      <td>0</td>\n",
       "      <td>0</td>\n",
       "      <td>0</td>\n",
       "      <td>0</td>\n",
       "      <td>No</td>\n",
       "    </tr>\n",
       "    <tr>\n",
       "      <th>3</th>\n",
       "      <td>8.679512e+11</td>\n",
       "      <td>5642828</td>\n",
       "      <td>F</td>\n",
       "      <td>2016-04-29</td>\n",
       "      <td>2016-04-29</td>\n",
       "      <td>8</td>\n",
       "      <td>PONTAL DE CAMBURI</td>\n",
       "      <td>0</td>\n",
       "      <td>0</td>\n",
       "      <td>0</td>\n",
       "      <td>0</td>\n",
       "      <td>0</td>\n",
       "      <td>0</td>\n",
       "      <td>No</td>\n",
       "    </tr>\n",
       "    <tr>\n",
       "      <th>4</th>\n",
       "      <td>8.841186e+12</td>\n",
       "      <td>5642494</td>\n",
       "      <td>F</td>\n",
       "      <td>2016-04-29</td>\n",
       "      <td>2016-04-29</td>\n",
       "      <td>56</td>\n",
       "      <td>JARDIM DA PENHA</td>\n",
       "      <td>0</td>\n",
       "      <td>1</td>\n",
       "      <td>1</td>\n",
       "      <td>0</td>\n",
       "      <td>0</td>\n",
       "      <td>0</td>\n",
       "      <td>No</td>\n",
       "    </tr>\n",
       "  </tbody>\n",
       "</table>\n",
       "</div>"
      ],
      "text/plain": [
       "      PatientId  AppointmentID Gender ScheduledDay AppointmentDay  Age  \\\n",
       "0  2.987250e+13        5642903      F   2016-04-29     2016-04-29   62   \n",
       "1  5.589978e+14        5642503      M   2016-04-29     2016-04-29   56   \n",
       "2  4.262962e+12        5642549      F   2016-04-29     2016-04-29   62   \n",
       "3  8.679512e+11        5642828      F   2016-04-29     2016-04-29    8   \n",
       "4  8.841186e+12        5642494      F   2016-04-29     2016-04-29   56   \n",
       "\n",
       "       Neighbourhood  Scholarship  Hipertension  Diabetes  Alcoholism  \\\n",
       "0    JARDIM DA PENHA            0             1         0           0   \n",
       "1    JARDIM DA PENHA            0             0         0           0   \n",
       "2      MATA DA PRAIA            0             0         0           0   \n",
       "3  PONTAL DE CAMBURI            0             0         0           0   \n",
       "4    JARDIM DA PENHA            0             1         1           0   \n",
       "\n",
       "   Handcap  SMS_received No-show  \n",
       "0        0             0      No  \n",
       "1        0             0      No  \n",
       "2        0             0      No  \n",
       "3        0             0      No  \n",
       "4        0             0      No  "
      ]
     },
     "execution_count": 8,
     "metadata": {},
     "output_type": "execute_result"
    }
   ],
   "source": [
    "df.head()"
   ]
  },
  {
   "cell_type": "code",
   "execution_count": 9,
   "metadata": {},
   "outputs": [
    {
     "data": {
      "text/plain": [
       "(110527, 14)"
      ]
     },
     "execution_count": 9,
     "metadata": {},
     "output_type": "execute_result"
    }
   ],
   "source": [
    "df.shape"
   ]
  },
  {
   "cell_type": "code",
   "execution_count": 10,
   "metadata": {},
   "outputs": [],
   "source": [
    "#Changing data type of PatientId from float to int\n",
    "df['PatientId'] = df['PatientId'].astype(int)\n",
    "#df['PatientId'] = pd.to_numeric(df['PatientId'], downcast='integer')"
   ]
  },
  {
   "cell_type": "code",
   "execution_count": 11,
   "metadata": {},
   "outputs": [],
   "source": [
    "# Rename for No-show column to be No_show\n",
    "df.rename(columns={'No-show':'No_show'}, inplace=True)"
   ]
  },
  {
   "cell_type": "code",
   "execution_count": 12,
   "metadata": {},
   "outputs": [],
   "source": [
    "#drop columns that won't be used\n",
    "df.drop(['PatientId','AppointmentID'], axis=1, inplace=True)"
   ]
  },
  {
   "cell_type": "code",
   "execution_count": 13,
   "metadata": {
    "scrolled": true
   },
   "outputs": [
    {
     "name": "stdout",
     "output_type": "stream",
     "text": [
      "(19619, 12) (17295, 12) (31637, 12) (16756, 12)\n"
     ]
    }
   ],
   "source": [
    "df0_18 = df[(df['Age'] > 0) & (df['Age'] <= 18) & (df[\"No_show\"] == 'No')]\n",
    "df19_34 = df[(df['Age'] <= 34) & (df['Age'] > 18) & (df[\"No_show\"] == 'No')]\n",
    "df35_60 = df[(df['Age'] <= 60) & (df['Age'] > 34) & (df[\"No_show\"] == 'No')]\n",
    "df61_100 = df[(df['Age'] > 60) & (df['Age'] > 60) & (df[\"No_show\"] == 'No')]\n",
    "\n",
    "print(df0_18.shape , df19_34.shape , df35_60.shape , df61_100.shape)"
   ]
  },
  {
   "cell_type": "markdown",
   "metadata": {},
   "source": [
    "### Exploration"
   ]
  },
  {
   "cell_type": "markdown",
   "metadata": {},
   "source": [
    "### We used The correlation matrix to estimate the linear historical relationship between the returns of multiple assets. "
   ]
  },
  {
   "cell_type": "code",
   "execution_count": 15,
   "metadata": {},
   "outputs": [
    {
     "data": {
      "text/html": [
       "<style  type=\"text/css\" >\n",
       "    #T_c81c71a7_1547_11eb_909d_982cbc78af45row0_col0 {\n",
       "            background-color:  #b40426;\n",
       "            color:  #f1f1f1;\n",
       "        }    #T_c81c71a7_1547_11eb_909d_982cbc78af45row0_col1 {\n",
       "            background-color:  #3b4cc0;\n",
       "            color:  #f1f1f1;\n",
       "        }    #T_c81c71a7_1547_11eb_909d_982cbc78af45row0_col2 {\n",
       "            background-color:  #e0dbd8;\n",
       "            color:  #000000;\n",
       "        }    #T_c81c71a7_1547_11eb_909d_982cbc78af45row0_col3 {\n",
       "            background-color:  #a2c1ff;\n",
       "            color:  #000000;\n",
       "        }    #T_c81c71a7_1547_11eb_909d_982cbc78af45row0_col4 {\n",
       "            background-color:  #5f7fe8;\n",
       "            color:  #000000;\n",
       "        }    #T_c81c71a7_1547_11eb_909d_982cbc78af45row0_col5 {\n",
       "            background-color:  #5977e3;\n",
       "            color:  #000000;\n",
       "        }    #T_c81c71a7_1547_11eb_909d_982cbc78af45row0_col6 {\n",
       "            background-color:  #455cce;\n",
       "            color:  #f1f1f1;\n",
       "        }    #T_c81c71a7_1547_11eb_909d_982cbc78af45row1_col0 {\n",
       "            background-color:  #3b4cc0;\n",
       "            color:  #f1f1f1;\n",
       "        }    #T_c81c71a7_1547_11eb_909d_982cbc78af45row1_col1 {\n",
       "            background-color:  #b40426;\n",
       "            color:  #f1f1f1;\n",
       "        }    #T_c81c71a7_1547_11eb_909d_982cbc78af45row1_col2 {\n",
       "            background-color:  #3b4cc0;\n",
       "            color:  #f1f1f1;\n",
       "        }    #T_c81c71a7_1547_11eb_909d_982cbc78af45row1_col3 {\n",
       "            background-color:  #3b4cc0;\n",
       "            color:  #f1f1f1;\n",
       "        }    #T_c81c71a7_1547_11eb_909d_982cbc78af45row1_col4 {\n",
       "            background-color:  #4c66d6;\n",
       "            color:  #000000;\n",
       "        }    #T_c81c71a7_1547_11eb_909d_982cbc78af45row1_col5 {\n",
       "            background-color:  #3e51c5;\n",
       "            color:  #f1f1f1;\n",
       "        }    #T_c81c71a7_1547_11eb_909d_982cbc78af45row1_col6 {\n",
       "            background-color:  #4257c9;\n",
       "            color:  #f1f1f1;\n",
       "        }    #T_c81c71a7_1547_11eb_909d_982cbc78af45row2_col0 {\n",
       "            background-color:  #e8d6cc;\n",
       "            color:  #000000;\n",
       "        }    #T_c81c71a7_1547_11eb_909d_982cbc78af45row2_col1 {\n",
       "            background-color:  #4f69d9;\n",
       "            color:  #000000;\n",
       "        }    #T_c81c71a7_1547_11eb_909d_982cbc78af45row2_col2 {\n",
       "            background-color:  #b40426;\n",
       "            color:  #f1f1f1;\n",
       "        }    #T_c81c71a7_1547_11eb_909d_982cbc78af45row2_col3 {\n",
       "            background-color:  #cedaeb;\n",
       "            color:  #000000;\n",
       "        }    #T_c81c71a7_1547_11eb_909d_982cbc78af45row2_col4 {\n",
       "            background-color:  #5d7ce6;\n",
       "            color:  #000000;\n",
       "        }    #T_c81c71a7_1547_11eb_909d_982cbc78af45row2_col5 {\n",
       "            background-color:  #5a78e4;\n",
       "            color:  #000000;\n",
       "        }    #T_c81c71a7_1547_11eb_909d_982cbc78af45row2_col6 {\n",
       "            background-color:  #3f53c6;\n",
       "            color:  #f1f1f1;\n",
       "        }    #T_c81c71a7_1547_11eb_909d_982cbc78af45row3_col0 {\n",
       "            background-color:  #b1cbfc;\n",
       "            color:  #000000;\n",
       "        }    #T_c81c71a7_1547_11eb_909d_982cbc78af45row3_col1 {\n",
       "            background-color:  #4c66d6;\n",
       "            color:  #000000;\n",
       "        }    #T_c81c71a7_1547_11eb_909d_982cbc78af45row3_col2 {\n",
       "            background-color:  #cdd9ec;\n",
       "            color:  #000000;\n",
       "        }    #T_c81c71a7_1547_11eb_909d_982cbc78af45row3_col3 {\n",
       "            background-color:  #b40426;\n",
       "            color:  #f1f1f1;\n",
       "        }    #T_c81c71a7_1547_11eb_909d_982cbc78af45row3_col4 {\n",
       "            background-color:  #485fd1;\n",
       "            color:  #f1f1f1;\n",
       "        }    #T_c81c71a7_1547_11eb_909d_982cbc78af45row3_col5 {\n",
       "            background-color:  #536edd;\n",
       "            color:  #000000;\n",
       "        }    #T_c81c71a7_1547_11eb_909d_982cbc78af45row3_col6 {\n",
       "            background-color:  #3d50c3;\n",
       "            color:  #f1f1f1;\n",
       "        }    #T_c81c71a7_1547_11eb_909d_982cbc78af45row4_col0 {\n",
       "            background-color:  #7295f4;\n",
       "            color:  #000000;\n",
       "        }    #T_c81c71a7_1547_11eb_909d_982cbc78af45row4_col1 {\n",
       "            background-color:  #5e7de7;\n",
       "            color:  #000000;\n",
       "        }    #T_c81c71a7_1547_11eb_909d_982cbc78af45row4_col2 {\n",
       "            background-color:  #5b7ae5;\n",
       "            color:  #000000;\n",
       "        }    #T_c81c71a7_1547_11eb_909d_982cbc78af45row4_col3 {\n",
       "            background-color:  #465ecf;\n",
       "            color:  #f1f1f1;\n",
       "        }    #T_c81c71a7_1547_11eb_909d_982cbc78af45row4_col4 {\n",
       "            background-color:  #b40426;\n",
       "            color:  #f1f1f1;\n",
       "        }    #T_c81c71a7_1547_11eb_909d_982cbc78af45row4_col5 {\n",
       "            background-color:  #4358cb;\n",
       "            color:  #f1f1f1;\n",
       "        }    #T_c81c71a7_1547_11eb_909d_982cbc78af45row4_col6 {\n",
       "            background-color:  #3b4cc0;\n",
       "            color:  #f1f1f1;\n",
       "        }    #T_c81c71a7_1547_11eb_909d_982cbc78af45row5_col0 {\n",
       "            background-color:  #6b8df0;\n",
       "            color:  #000000;\n",
       "        }    #T_c81c71a7_1547_11eb_909d_982cbc78af45row5_col1 {\n",
       "            background-color:  #516ddb;\n",
       "            color:  #000000;\n",
       "        }    #T_c81c71a7_1547_11eb_909d_982cbc78af45row5_col2 {\n",
       "            background-color:  #5977e3;\n",
       "            color:  #000000;\n",
       "        }    #T_c81c71a7_1547_11eb_909d_982cbc78af45row5_col3 {\n",
       "            background-color:  #536edd;\n",
       "            color:  #000000;\n",
       "        }    #T_c81c71a7_1547_11eb_909d_982cbc78af45row5_col4 {\n",
       "            background-color:  #4358cb;\n",
       "            color:  #f1f1f1;\n",
       "        }    #T_c81c71a7_1547_11eb_909d_982cbc78af45row5_col5 {\n",
       "            background-color:  #b40426;\n",
       "            color:  #f1f1f1;\n",
       "        }    #T_c81c71a7_1547_11eb_909d_982cbc78af45row5_col6 {\n",
       "            background-color:  #3b4cc0;\n",
       "            color:  #f1f1f1;\n",
       "        }    #T_c81c71a7_1547_11eb_909d_982cbc78af45row6_col0 {\n",
       "            background-color:  #5875e1;\n",
       "            color:  #000000;\n",
       "        }    #T_c81c71a7_1547_11eb_909d_982cbc78af45row6_col1 {\n",
       "            background-color:  #5470de;\n",
       "            color:  #000000;\n",
       "        }    #T_c81c71a7_1547_11eb_909d_982cbc78af45row6_col2 {\n",
       "            background-color:  #3e51c5;\n",
       "            color:  #f1f1f1;\n",
       "        }    #T_c81c71a7_1547_11eb_909d_982cbc78af45row6_col3 {\n",
       "            background-color:  #3d50c3;\n",
       "            color:  #f1f1f1;\n",
       "        }    #T_c81c71a7_1547_11eb_909d_982cbc78af45row6_col4 {\n",
       "            background-color:  #3b4cc0;\n",
       "            color:  #f1f1f1;\n",
       "        }    #T_c81c71a7_1547_11eb_909d_982cbc78af45row6_col5 {\n",
       "            background-color:  #3b4cc0;\n",
       "            color:  #f1f1f1;\n",
       "        }    #T_c81c71a7_1547_11eb_909d_982cbc78af45row6_col6 {\n",
       "            background-color:  #b40426;\n",
       "            color:  #f1f1f1;\n",
       "        }</style><table id=\"T_c81c71a7_1547_11eb_909d_982cbc78af45\" ><thead>    <tr>        <th class=\"blank level0\" ></th>        <th class=\"col_heading level0 col0\" >Age</th>        <th class=\"col_heading level0 col1\" >Scholarship</th>        <th class=\"col_heading level0 col2\" >Hipertension</th>        <th class=\"col_heading level0 col3\" >Diabetes</th>        <th class=\"col_heading level0 col4\" >Alcoholism</th>        <th class=\"col_heading level0 col5\" >Handcap</th>        <th class=\"col_heading level0 col6\" >SMS_received</th>    </tr></thead><tbody>\n",
       "                <tr>\n",
       "                        <th id=\"T_c81c71a7_1547_11eb_909d_982cbc78af45level0_row0\" class=\"row_heading level0 row0\" >Age</th>\n",
       "                        <td id=\"T_c81c71a7_1547_11eb_909d_982cbc78af45row0_col0\" class=\"data row0 col0\" >1.000000</td>\n",
       "                        <td id=\"T_c81c71a7_1547_11eb_909d_982cbc78af45row0_col1\" class=\"data row0 col1\" >-0.092457</td>\n",
       "                        <td id=\"T_c81c71a7_1547_11eb_909d_982cbc78af45row0_col2\" class=\"data row0 col2\" >0.504586</td>\n",
       "                        <td id=\"T_c81c71a7_1547_11eb_909d_982cbc78af45row0_col3\" class=\"data row0 col3\" >0.292391</td>\n",
       "                        <td id=\"T_c81c71a7_1547_11eb_909d_982cbc78af45row0_col4\" class=\"data row0 col4\" >0.095811</td>\n",
       "                        <td id=\"T_c81c71a7_1547_11eb_909d_982cbc78af45row0_col5\" class=\"data row0 col5\" >0.078033</td>\n",
       "                        <td id=\"T_c81c71a7_1547_11eb_909d_982cbc78af45row0_col6\" class=\"data row0 col6\" >0.012643</td>\n",
       "            </tr>\n",
       "            <tr>\n",
       "                        <th id=\"T_c81c71a7_1547_11eb_909d_982cbc78af45level0_row1\" class=\"row_heading level0 row1\" >Scholarship</th>\n",
       "                        <td id=\"T_c81c71a7_1547_11eb_909d_982cbc78af45row1_col0\" class=\"data row1 col0\" >-0.092457</td>\n",
       "                        <td id=\"T_c81c71a7_1547_11eb_909d_982cbc78af45row1_col1\" class=\"data row1 col1\" >1.000000</td>\n",
       "                        <td id=\"T_c81c71a7_1547_11eb_909d_982cbc78af45row1_col2\" class=\"data row1 col2\" >-0.019729</td>\n",
       "                        <td id=\"T_c81c71a7_1547_11eb_909d_982cbc78af45row1_col3\" class=\"data row1 col3\" >-0.024894</td>\n",
       "                        <td id=\"T_c81c71a7_1547_11eb_909d_982cbc78af45row1_col4\" class=\"data row1 col4\" >0.035022</td>\n",
       "                        <td id=\"T_c81c71a7_1547_11eb_909d_982cbc78af45row1_col5\" class=\"data row1 col5\" >-0.008586</td>\n",
       "                        <td id=\"T_c81c71a7_1547_11eb_909d_982cbc78af45row1_col6\" class=\"data row1 col6\" >0.001194</td>\n",
       "            </tr>\n",
       "            <tr>\n",
       "                        <th id=\"T_c81c71a7_1547_11eb_909d_982cbc78af45level0_row2\" class=\"row_heading level0 row2\" >Hipertension</th>\n",
       "                        <td id=\"T_c81c71a7_1547_11eb_909d_982cbc78af45row2_col0\" class=\"data row2 col0\" >0.504586</td>\n",
       "                        <td id=\"T_c81c71a7_1547_11eb_909d_982cbc78af45row2_col1\" class=\"data row2 col1\" >-0.019729</td>\n",
       "                        <td id=\"T_c81c71a7_1547_11eb_909d_982cbc78af45row2_col2\" class=\"data row2 col2\" >1.000000</td>\n",
       "                        <td id=\"T_c81c71a7_1547_11eb_909d_982cbc78af45row2_col3\" class=\"data row2 col3\" >0.433086</td>\n",
       "                        <td id=\"T_c81c71a7_1547_11eb_909d_982cbc78af45row2_col4\" class=\"data row2 col4\" >0.087971</td>\n",
       "                        <td id=\"T_c81c71a7_1547_11eb_909d_982cbc78af45row2_col5\" class=\"data row2 col5\" >0.080083</td>\n",
       "                        <td id=\"T_c81c71a7_1547_11eb_909d_982cbc78af45row2_col6\" class=\"data row2 col6\" >-0.006267</td>\n",
       "            </tr>\n",
       "            <tr>\n",
       "                        <th id=\"T_c81c71a7_1547_11eb_909d_982cbc78af45level0_row3\" class=\"row_heading level0 row3\" >Diabetes</th>\n",
       "                        <td id=\"T_c81c71a7_1547_11eb_909d_982cbc78af45row3_col0\" class=\"data row3 col0\" >0.292391</td>\n",
       "                        <td id=\"T_c81c71a7_1547_11eb_909d_982cbc78af45row3_col1\" class=\"data row3 col1\" >-0.024894</td>\n",
       "                        <td id=\"T_c81c71a7_1547_11eb_909d_982cbc78af45row3_col2\" class=\"data row3 col2\" >0.433086</td>\n",
       "                        <td id=\"T_c81c71a7_1547_11eb_909d_982cbc78af45row3_col3\" class=\"data row3 col3\" >1.000000</td>\n",
       "                        <td id=\"T_c81c71a7_1547_11eb_909d_982cbc78af45row3_col4\" class=\"data row3 col4\" >0.018474</td>\n",
       "                        <td id=\"T_c81c71a7_1547_11eb_909d_982cbc78af45row3_col5\" class=\"data row3 col5\" >0.057530</td>\n",
       "                        <td id=\"T_c81c71a7_1547_11eb_909d_982cbc78af45row3_col6\" class=\"data row3 col6\" >-0.014550</td>\n",
       "            </tr>\n",
       "            <tr>\n",
       "                        <th id=\"T_c81c71a7_1547_11eb_909d_982cbc78af45level0_row4\" class=\"row_heading level0 row4\" >Alcoholism</th>\n",
       "                        <td id=\"T_c81c71a7_1547_11eb_909d_982cbc78af45row4_col0\" class=\"data row4 col0\" >0.095811</td>\n",
       "                        <td id=\"T_c81c71a7_1547_11eb_909d_982cbc78af45row4_col1\" class=\"data row4 col1\" >0.035022</td>\n",
       "                        <td id=\"T_c81c71a7_1547_11eb_909d_982cbc78af45row4_col2\" class=\"data row4 col2\" >0.087971</td>\n",
       "                        <td id=\"T_c81c71a7_1547_11eb_909d_982cbc78af45row4_col3\" class=\"data row4 col3\" >0.018474</td>\n",
       "                        <td id=\"T_c81c71a7_1547_11eb_909d_982cbc78af45row4_col4\" class=\"data row4 col4\" >1.000000</td>\n",
       "                        <td id=\"T_c81c71a7_1547_11eb_909d_982cbc78af45row4_col5\" class=\"data row4 col5\" >0.004648</td>\n",
       "                        <td id=\"T_c81c71a7_1547_11eb_909d_982cbc78af45row4_col6\" class=\"data row4 col6\" >-0.026147</td>\n",
       "            </tr>\n",
       "            <tr>\n",
       "                        <th id=\"T_c81c71a7_1547_11eb_909d_982cbc78af45level0_row5\" class=\"row_heading level0 row5\" >Handcap</th>\n",
       "                        <td id=\"T_c81c71a7_1547_11eb_909d_982cbc78af45row5_col0\" class=\"data row5 col0\" >0.078033</td>\n",
       "                        <td id=\"T_c81c71a7_1547_11eb_909d_982cbc78af45row5_col1\" class=\"data row5 col1\" >-0.008586</td>\n",
       "                        <td id=\"T_c81c71a7_1547_11eb_909d_982cbc78af45row5_col2\" class=\"data row5 col2\" >0.080083</td>\n",
       "                        <td id=\"T_c81c71a7_1547_11eb_909d_982cbc78af45row5_col3\" class=\"data row5 col3\" >0.057530</td>\n",
       "                        <td id=\"T_c81c71a7_1547_11eb_909d_982cbc78af45row5_col4\" class=\"data row5 col4\" >0.004648</td>\n",
       "                        <td id=\"T_c81c71a7_1547_11eb_909d_982cbc78af45row5_col5\" class=\"data row5 col5\" >1.000000</td>\n",
       "                        <td id=\"T_c81c71a7_1547_11eb_909d_982cbc78af45row5_col6\" class=\"data row5 col6\" >-0.024161</td>\n",
       "            </tr>\n",
       "            <tr>\n",
       "                        <th id=\"T_c81c71a7_1547_11eb_909d_982cbc78af45level0_row6\" class=\"row_heading level0 row6\" >SMS_received</th>\n",
       "                        <td id=\"T_c81c71a7_1547_11eb_909d_982cbc78af45row6_col0\" class=\"data row6 col0\" >0.012643</td>\n",
       "                        <td id=\"T_c81c71a7_1547_11eb_909d_982cbc78af45row6_col1\" class=\"data row6 col1\" >0.001194</td>\n",
       "                        <td id=\"T_c81c71a7_1547_11eb_909d_982cbc78af45row6_col2\" class=\"data row6 col2\" >-0.006267</td>\n",
       "                        <td id=\"T_c81c71a7_1547_11eb_909d_982cbc78af45row6_col3\" class=\"data row6 col3\" >-0.014550</td>\n",
       "                        <td id=\"T_c81c71a7_1547_11eb_909d_982cbc78af45row6_col4\" class=\"data row6 col4\" >-0.026147</td>\n",
       "                        <td id=\"T_c81c71a7_1547_11eb_909d_982cbc78af45row6_col5\" class=\"data row6 col5\" >-0.024161</td>\n",
       "                        <td id=\"T_c81c71a7_1547_11eb_909d_982cbc78af45row6_col6\" class=\"data row6 col6\" >1.000000</td>\n",
       "            </tr>\n",
       "    </tbody></table>"
      ],
      "text/plain": [
       "<pandas.io.formats.style.Styler at 0x2aa40a2ca90>"
      ]
     },
     "execution_count": 15,
     "metadata": {},
     "output_type": "execute_result"
    }
   ],
   "source": [
    "# Plot correlation matrix for the dataframe\n",
    "corr = df.corr()\n",
    "corr.style.background_gradient(cmap='coolwarm')"
   ]
  },
  {
   "cell_type": "markdown",
   "metadata": {},
   "source": [
    "### Research Question 1 :\n",
    "### Are no-show appointments associated with a certain gender?\n",
    "\n",
    "### Answer\n",
    "### We observe that most of people reserve are females and most of people attend are females and most of people don't attend are Females"
   ]
  },
  {
   "cell_type": "code",
   "execution_count": 13,
   "metadata": {},
   "outputs": [
    {
     "data": {
      "text/html": [
       "<div>\n",
       "<style scoped>\n",
       "    .dataframe tbody tr th:only-of-type {\n",
       "        vertical-align: middle;\n",
       "    }\n",
       "\n",
       "    .dataframe tbody tr th {\n",
       "        vertical-align: top;\n",
       "    }\n",
       "\n",
       "    .dataframe thead th {\n",
       "        text-align: right;\n",
       "    }\n",
       "</style>\n",
       "<table border=\"1\" class=\"dataframe\">\n",
       "  <thead>\n",
       "    <tr style=\"text-align: right;\">\n",
       "      <th></th>\n",
       "      <th>Gender</th>\n",
       "      <th>ScheduledDay</th>\n",
       "      <th>AppointmentDay</th>\n",
       "      <th>Age</th>\n",
       "      <th>Neighbourhood</th>\n",
       "      <th>Scholarship</th>\n",
       "      <th>Hipertension</th>\n",
       "      <th>Diabetes</th>\n",
       "      <th>Alcoholism</th>\n",
       "      <th>Handcap</th>\n",
       "      <th>SMS_received</th>\n",
       "      <th>No_show</th>\n",
       "    </tr>\n",
       "  </thead>\n",
       "  <tbody>\n",
       "    <tr>\n",
       "      <th>0</th>\n",
       "      <td>F</td>\n",
       "      <td>2016-04-29</td>\n",
       "      <td>2016-04-29</td>\n",
       "      <td>62</td>\n",
       "      <td>JARDIM DA PENHA</td>\n",
       "      <td>0</td>\n",
       "      <td>1</td>\n",
       "      <td>0</td>\n",
       "      <td>0</td>\n",
       "      <td>0</td>\n",
       "      <td>0</td>\n",
       "      <td>No</td>\n",
       "    </tr>\n",
       "    <tr>\n",
       "      <th>1</th>\n",
       "      <td>M</td>\n",
       "      <td>2016-04-29</td>\n",
       "      <td>2016-04-29</td>\n",
       "      <td>56</td>\n",
       "      <td>JARDIM DA PENHA</td>\n",
       "      <td>0</td>\n",
       "      <td>0</td>\n",
       "      <td>0</td>\n",
       "      <td>0</td>\n",
       "      <td>0</td>\n",
       "      <td>0</td>\n",
       "      <td>No</td>\n",
       "    </tr>\n",
       "    <tr>\n",
       "      <th>2</th>\n",
       "      <td>F</td>\n",
       "      <td>2016-04-29</td>\n",
       "      <td>2016-04-29</td>\n",
       "      <td>62</td>\n",
       "      <td>MATA DA PRAIA</td>\n",
       "      <td>0</td>\n",
       "      <td>0</td>\n",
       "      <td>0</td>\n",
       "      <td>0</td>\n",
       "      <td>0</td>\n",
       "      <td>0</td>\n",
       "      <td>No</td>\n",
       "    </tr>\n",
       "    <tr>\n",
       "      <th>3</th>\n",
       "      <td>F</td>\n",
       "      <td>2016-04-29</td>\n",
       "      <td>2016-04-29</td>\n",
       "      <td>8</td>\n",
       "      <td>PONTAL DE CAMBURI</td>\n",
       "      <td>0</td>\n",
       "      <td>0</td>\n",
       "      <td>0</td>\n",
       "      <td>0</td>\n",
       "      <td>0</td>\n",
       "      <td>0</td>\n",
       "      <td>No</td>\n",
       "    </tr>\n",
       "    <tr>\n",
       "      <th>4</th>\n",
       "      <td>F</td>\n",
       "      <td>2016-04-29</td>\n",
       "      <td>2016-04-29</td>\n",
       "      <td>56</td>\n",
       "      <td>JARDIM DA PENHA</td>\n",
       "      <td>0</td>\n",
       "      <td>1</td>\n",
       "      <td>1</td>\n",
       "      <td>0</td>\n",
       "      <td>0</td>\n",
       "      <td>0</td>\n",
       "      <td>No</td>\n",
       "    </tr>\n",
       "  </tbody>\n",
       "</table>\n",
       "</div>"
      ],
      "text/plain": [
       "  Gender ScheduledDay AppointmentDay  Age      Neighbourhood  Scholarship  \\\n",
       "0      F   2016-04-29     2016-04-29   62    JARDIM DA PENHA            0   \n",
       "1      M   2016-04-29     2016-04-29   56    JARDIM DA PENHA            0   \n",
       "2      F   2016-04-29     2016-04-29   62      MATA DA PRAIA            0   \n",
       "3      F   2016-04-29     2016-04-29    8  PONTAL DE CAMBURI            0   \n",
       "4      F   2016-04-29     2016-04-29   56    JARDIM DA PENHA            0   \n",
       "\n",
       "   Hipertension  Diabetes  Alcoholism  Handcap  SMS_received No_show  \n",
       "0             1         0           0        0             0      No  \n",
       "1             0         0           0        0             0      No  \n",
       "2             0         0           0        0             0      No  \n",
       "3             0         0           0        0             0      No  \n",
       "4             1         1           0        0             0      No  "
      ]
     },
     "execution_count": 13,
     "metadata": {},
     "output_type": "execute_result"
    }
   ],
   "source": [
    "df.head()"
   ]
  },
  {
   "cell_type": "code",
   "execution_count": 14,
   "metadata": {},
   "outputs": [],
   "source": [
    "# I Separate the dataframe into males and females\n",
    "dfMale= df[df['Gender'] == 'M']\n",
    "dfFem = df[df['Gender'] == 'F']"
   ]
  },
  {
   "cell_type": "code",
   "execution_count": 15,
   "metadata": {},
   "outputs": [
    {
     "data": {
      "text/plain": [
       "(38687, 12)"
      ]
     },
     "execution_count": 15,
     "metadata": {},
     "output_type": "execute_result"
    }
   ],
   "source": [
    "dfMale.shape"
   ]
  },
  {
   "cell_type": "code",
   "execution_count": 16,
   "metadata": {},
   "outputs": [
    {
     "data": {
      "text/plain": [
       "(71840, 12)"
      ]
     },
     "execution_count": 16,
     "metadata": {},
     "output_type": "execute_result"
    }
   ],
   "source": [
    "dfFem.shape"
   ]
  },
  {
   "cell_type": "code",
   "execution_count": 17,
   "metadata": {
    "scrolled": true
   },
   "outputs": [
    {
     "data": {
      "text/plain": [
       "<matplotlib.axes._subplots.AxesSubplot at 0x19c157e7670>"
      ]
     },
     "execution_count": 17,
     "metadata": {},
     "output_type": "execute_result"
    },
    {
     "data": {
      "image/png": "[encoded data removed]",
      "text/plain": [
       "<Figure size 432x288 with 1 Axes>"
      ]
     },
     "metadata": {
      "needs_background": "light"
     },
     "output_type": "display_data"
    }
   ],
   "source": [
    "dfMale['No_show'].value_counts().plot.bar()"
   ]
  },
  {
   "cell_type": "code",
   "execution_count": 18,
   "metadata": {},
   "outputs": [
    {
     "data": {
      "text/plain": [
       "<matplotlib.axes._subplots.AxesSubplot at 0x19c156c1760>"
      ]
     },
     "execution_count": 18,
     "metadata": {},
     "output_type": "execute_result"
    },
    {
     "data": {
      "image/png": "[encoded data removed]",
      "text/plain": [
       "<Figure size 432x288 with 1 Axes>"
      ]
     },
     "metadata": {
      "needs_background": "light"
     },
     "output_type": "display_data"
    }
   ],
   "source": [
    "dfFem['No_show'].value_counts().plot.bar()"
   ]
  },
  {
   "cell_type": "markdown",
   "metadata": {},
   "source": [
    "### Research Question 2  \n",
    "### What are the most hospitals where appointments are reserved, and which one is more present for their appointments¶\n",
    "\n",
    "### Answer\n",
    "### JARDIM CAMBURI is the most for both"
   ]
  },
  {
   "cell_type": "code",
   "execution_count": 19,
   "metadata": {
    "scrolled": true
   },
   "outputs": [
    {
     "data": {
      "text/plain": [
       "JARDIM CAMBURI       6252\n",
       "MARIA ORTIZ          4586\n",
       "RESISTÊNCIA          3525\n",
       "JARDIM DA PENHA      3246\n",
       "SANTA MARTHA         2635\n",
       "                     ... \n",
       "PONTAL DE CAMBURI      57\n",
       "ILHA DO BOI            32\n",
       "ILHA DO FRADE           8\n",
       "AEROPORTO               7\n",
       "PARQUE INDUSTRIAL       1\n",
       "Name: Neighbourhood, Length: 80, dtype: int64"
      ]
     },
     "execution_count": 19,
     "metadata": {},
     "output_type": "execute_result"
    }
   ],
   "source": [
    "# Which hospitals people reserve appointments in it\n",
    "df['Neighbourhood'][df['No_show']=='No'].value_counts()"
   ]
  },
  {
   "cell_type": "code",
   "execution_count": 20,
   "metadata": {},
   "outputs": [
    {
     "data": {
      "text/plain": [
       "<matplotlib.axes._subplots.AxesSubplot at 0x19c15e45790>"
      ]
     },
     "execution_count": 20,
     "metadata": {},
     "output_type": "execute_result"
    },
    {
     "data": {
      "image/png": "[encoded data removed]",
      "text/plain": [
       "<Figure size 432x288 with 1 Axes>"
      ]
     },
     "metadata": {
      "needs_background": "light"
     },
     "output_type": "display_data"
    }
   ],
   "source": [
    "df['Neighbourhood'][df['No_show']=='No'].value_counts().head().plot(kind='bar')"
   ]
  },
  {
   "cell_type": "code",
   "execution_count": 21,
   "metadata": {},
   "outputs": [
    {
     "data": {
      "text/plain": [
       "JARDIM CAMBURI                 1465\n",
       "MARIA ORTIZ                    1219\n",
       "ITARARÉ                         923\n",
       "RESISTÊNCIA                     906\n",
       "CENTRO                          703\n",
       "                               ... \n",
       "PONTAL DE CAMBURI                12\n",
       "ILHA DO BOI                       3\n",
       "ILHAS OCEÂNICAS DE TRINDADE       2\n",
       "ILHA DO FRADE                     2\n",
       "AEROPORTO                         1\n",
       "Name: Neighbourhood, Length: 80, dtype: int64"
      ]
     },
     "execution_count": 21,
     "metadata": {},
     "output_type": "execute_result"
    }
   ],
   "source": [
    "df['Neighbourhood'][df['No_show']=='Yes'].value_counts()"
   ]
  },
  {
   "cell_type": "code",
   "execution_count": 22,
   "metadata": {
    "scrolled": true
   },
   "outputs": [
    {
     "data": {
      "text/plain": [
       "<matplotlib.axes._subplots.AxesSubplot at 0x19c17421e20>"
      ]
     },
     "execution_count": 22,
     "metadata": {},
     "output_type": "execute_result"
    },
    {
     "data": {
      "image/png": "[encoded data removed]",
      "text/plain": [
       "<Figure size 432x288 with 1 Axes>"
      ]
     },
     "metadata": {
      "needs_background": "light"
     },
     "output_type": "display_data"
    }
   ],
   "source": [
    "df['Neighbourhood'][df['No_show']=='Yes'].value_counts().head().plot(kind='bar')"
   ]
  },
  {
   "cell_type": "markdown",
   "metadata": {},
   "source": [
    "<a id='eda'></a>\n",
    "## Exploratory Data Analysis\n",
    "\n",
    "\n",
    "### Research Question 3 :\n",
    "### Do SMS reminders decrease the number of absences?\n",
    "\n",
    "### Answer\n",
    "### Most of people that didn't receive message didn't attend ,,, And most of people attend didn't received SMS. "
   ]
  },
  {
   "cell_type": "code",
   "execution_count": 23,
   "metadata": {},
   "outputs": [
    {
     "data": {
      "text/plain": [
       "<matplotlib.axes._subplots.AxesSubplot at 0x19c174963d0>"
      ]
     },
     "execution_count": 23,
     "metadata": {},
     "output_type": "execute_result"
    },
    {
     "data": {
      "image/png": "[encoded data removed]",
      "text/plain": [
       "<Figure size 432x288 with 1 Axes>"
      ]
     },
     "metadata": {},
     "output_type": "display_data"
    }
   ],
   "source": [
    "df['SMS_received'][(df['No_show']=='Yes')].value_counts().head().plot(kind='pie')"
   ]
  },
  {
   "cell_type": "code",
   "execution_count": 24,
   "metadata": {},
   "outputs": [
    {
     "data": {
      "text/plain": [
       "<matplotlib.axes._subplots.AxesSubplot at 0x19c18481a00>"
      ]
     },
     "execution_count": 24,
     "metadata": {},
     "output_type": "execute_result"
    },
    {
     "data": {
      "image/png": "[encoded data removed]",
      "text/plain": [
       "<Figure size 432x288 with 1 Axes>"
      ]
     },
     "metadata": {},
     "output_type": "display_data"
    }
   ],
   "source": [
    "df['SMS_received'][(df['No_show']=='No')].value_counts().head().plot(kind='pie')"
   ]
  },
  {
   "cell_type": "markdown",
   "metadata": {},
   "source": [
    "<a id='eda'></a>\n",
    "## Exploratory Data Analysis\n",
    "\n",
    "\n",
    "### Research Question 4 :\n",
    "### Is the period between scheduled day and appointment day affecting the number of no-show appointments?\n",
    "\n",
    "### Answer\n",
    "### there are most of people attend at AppointmentDay differ from ScheduledDay but there is small number of people didn't attend at AppointmentDay when they reserve at the same day compared with when they reserve in another day"
   ]
  },
  {
   "cell_type": "code",
   "execution_count": 17,
   "metadata": {},
   "outputs": [
    {
     "data": {
      "text/html": [
       "<div>\n",
       "<style scoped>\n",
       "    .dataframe tbody tr th:only-of-type {\n",
       "        vertical-align: middle;\n",
       "    }\n",
       "\n",
       "    .dataframe tbody tr th {\n",
       "        vertical-align: top;\n",
       "    }\n",
       "\n",
       "    .dataframe thead th {\n",
       "        text-align: right;\n",
       "    }\n",
       "</style>\n",
       "<table border=\"1\" class=\"dataframe\">\n",
       "  <thead>\n",
       "    <tr style=\"text-align: right;\">\n",
       "      <th></th>\n",
       "      <th>Gender</th>\n",
       "      <th>ScheduledDay</th>\n",
       "      <th>AppointmentDay</th>\n",
       "      <th>Age</th>\n",
       "      <th>Neighbourhood</th>\n",
       "      <th>Scholarship</th>\n",
       "      <th>Hipertension</th>\n",
       "      <th>Diabetes</th>\n",
       "      <th>Alcoholism</th>\n",
       "      <th>Handcap</th>\n",
       "      <th>SMS_received</th>\n",
       "      <th>No_show</th>\n",
       "    </tr>\n",
       "  </thead>\n",
       "  <tbody>\n",
       "    <tr>\n",
       "      <th>0</th>\n",
       "      <td>F</td>\n",
       "      <td>2016-04-29</td>\n",
       "      <td>2016-04-29</td>\n",
       "      <td>62</td>\n",
       "      <td>JARDIM DA PENHA</td>\n",
       "      <td>0</td>\n",
       "      <td>1</td>\n",
       "      <td>0</td>\n",
       "      <td>0</td>\n",
       "      <td>0</td>\n",
       "      <td>0</td>\n",
       "      <td>No</td>\n",
       "    </tr>\n",
       "    <tr>\n",
       "      <th>1</th>\n",
       "      <td>M</td>\n",
       "      <td>2016-04-29</td>\n",
       "      <td>2016-04-29</td>\n",
       "      <td>56</td>\n",
       "      <td>JARDIM DA PENHA</td>\n",
       "      <td>0</td>\n",
       "      <td>0</td>\n",
       "      <td>0</td>\n",
       "      <td>0</td>\n",
       "      <td>0</td>\n",
       "      <td>0</td>\n",
       "      <td>No</td>\n",
       "    </tr>\n",
       "  </tbody>\n",
       "</table>\n",
       "</div>"
      ],
      "text/plain": [
       "  Gender ScheduledDay AppointmentDay  Age    Neighbourhood  Scholarship  \\\n",
       "0      F   2016-04-29     2016-04-29   62  JARDIM DA PENHA            0   \n",
       "1      M   2016-04-29     2016-04-29   56  JARDIM DA PENHA            0   \n",
       "\n",
       "   Hipertension  Diabetes  Alcoholism  Handcap  SMS_received No_show  \n",
       "0             1         0           0        0             0      No  \n",
       "1             0         0           0        0             0      No  "
      ]
     },
     "execution_count": 17,
     "metadata": {},
     "output_type": "execute_result"
    }
   ],
   "source": [
    "df.head(2)"
   ]
  },
  {
   "cell_type": "code",
   "execution_count": 18,
   "metadata": {},
   "outputs": [],
   "source": [
    "total_rows = df.shape[0]"
   ]
  },
  {
   "cell_type": "code",
   "execution_count": 19,
   "metadata": {},
   "outputs": [
    {
     "name": "stdout",
     "output_type": "stream",
     "text": [
      "36771 1792 51437 20527\n"
     ]
    }
   ],
   "source": [
    "attendSameTime = 0\n",
    "NoShowSameTime = 0\n",
    "\n",
    "attendDifTime = 0\n",
    "NoShowDifTime = 0\n",
    "\n",
    "for n in range (total_rows) :\n",
    "    if(df['ScheduledDay'][n]==df['AppointmentDay'][n]):\n",
    "        if(df['No_show'][n]=='No'):\n",
    "            attendSameTime += 1\n",
    "        else :\n",
    "            NoShowSameTime += 1\n",
    "    else :\n",
    "        if(df['No_show'][n]=='No'):\n",
    "            attendDifTime += 1\n",
    "        else :\n",
    "            NoShowDifTime += 1\n",
    "            \n",
    "print(attendSameTime, NoShowSameTime, attendDifTime, NoShowDifTime)"
   ]
  },
  {
   "cell_type": "markdown",
   "metadata": {},
   "source": [
    "## Exploratory Data Analysis\n",
    "\n",
    "\n",
    "### Research Question 5 :\n",
    "### Do Scholarship reminders increase the number of absences?\n",
    "\n",
    "### Answer\n",
    "### Most of people attend don't have a Scholarship"
   ]
  },
  {
   "cell_type": "code",
   "execution_count": 28,
   "metadata": {},
   "outputs": [
    {
     "data": {
      "image/png": "[encoded data removed]",
      "text/plain": [
       "<Figure size 432x288 with 1 Axes>"
      ]
     },
     "metadata": {
      "needs_background": "light"
     },
     "output_type": "display_data"
    }
   ],
   "source": [
    "plt.hist(df.Scholarship[df.No_show == 'No'] , 15, facecolor='b',alpha=1, label='Attend')\n",
    "plt.hist(df.Scholarship[df.No_show == 'Yes'] , 10, facecolor='g',alpha=1, label='Absent')\n",
    "plt.legend()\n",
    "plt.xlabel('Scholarship')\n",
    "plt.ylabel('Number of people')\n",
    "plt.title('Histogram')\n",
    "plt.grid(True)"
   ]
  },
  {
   "cell_type": "markdown",
   "metadata": {},
   "source": [
    "<a id='conclusions'></a>\n",
    "## Conclusions"
   ]
  },
  {
   "cell_type": "markdown",
   "metadata": {},
   "source": [
    "Results : Our data Suggest that\n",
    " 1. There isn't big difference between the distribution of age between patients who showed uo for the appointment versus the patients that didn't show up for the appointment and the most is females .\n",
    " 2. There is a higher percentage of people that received an SMS and didn't show up when compared to people who received an SMS and did show up.\n",
    " 3. Being enrolled in the scholarship program doesn't seem to be make people more likely to show up to the oppointment.\n",
    " 4. JARDIM CAMBURI is the most hospital for reservation and attendance.\n",
    " 5. there are most of people attend at AppointmentDay differ from ScheduledDay but there is small number of people didn't attend at AppointmentDay when they reserve at the same day compared with when they reserve in another day.\n",
    " \n",
    " Limitations: There are a couple of limitationd with our data:\n",
    " 1. Most of variables are categorical, which doesn't allow for a high level of statistical method that can be used to provide correlations\n",
    " 2. Can't show strong correlations between factors since most of our data is categorical.\n",
    " 3. We don't have many details for certain factors to draw conclusions."
   ]
  },
  {
   "cell_type": "code",
   "execution_count": 29,
   "metadata": {},
   "outputs": [],
   "source": [
    "df.to_csv('No-show_appointment_edited.csv',index=False)"
   ]
  }
 ],
 "metadata": {
  "kernelspec": {
   "display_name": "Python 3",
   "language": "python",
   "name": "python3"
  },
  "language_info": {
   "codemirror_mode": {
    "name": "ipython",
    "version": 3
   },
   "file_extension": ".py",
   "mimetype": "text/x-python",
   "name": "python",
   "nbconvert_exporter": "python",
   "pygments_lexer": "ipython3",
   "version": "3.8.3"
  }
 },
 "nbformat": 4,
 "nbformat_minor": 2
}
